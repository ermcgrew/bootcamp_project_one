{
 "cells": [
  {
   "cell_type": "code",
   "execution_count": 1,
   "id": "1687c5a8",
   "metadata": {},
   "outputs": [],
   "source": [
    "# Dependencies and Setup\n",
    "import matplotlib.pyplot as plt\n",
    "import pandas as pd\n",
    "import numpy as np\n",
    "import scipy.stats as st\n",
    "from scipy.stats import linregress"
   ]
  },
  {
   "cell_type": "code",
   "execution_count": 2,
   "id": "86d1ecde",
   "metadata": {},
   "outputs": [],
   "source": [
    "#read in all csv data files\n",
    "fertility_df    = pd.read_csv(\"Resources/Fertility.csv\")\n",
    "gdp_df          = pd.read_csv(\"Resources/GDP per capita.csv\")\n",
    "life_expec_df   = pd.read_csv(\"Resources/Life expectancy.csv\")\n",
    "happiness_df    = pd.read_csv(\"Resources/Happiness.csv\")\n",
    "meat_df         = pd.read_csv(\"Resources/Meat consumption.csv\")\n",
    "median_age_df   = pd.read_csv(\"Resources/Median age.csv\")\n",
    "pop_growth_df   = pd.read_csv(\"Resources/Population growth.csv\")\n",
    "sex_df          = pd.read_csv(\"Resources/Sex-ratio.csv\")\n",
    "suicide_df      = pd.read_csv(\"Resources/Suicide rate.csv\")\n",
    "urban_df        = pd.read_csv(\"Resources/Urbanization rate.csv\")"
   ]
  },
  {
   "cell_type": "code",
   "execution_count": 3,
   "id": "8e7a9480",
   "metadata": {},
   "outputs": [
    {
     "data": {
      "text/html": [
       "<div>\n",
       "<style scoped>\n",
       "    .dataframe tbody tr th:only-of-type {\n",
       "        vertical-align: middle;\n",
       "    }\n",
       "\n",
       "    .dataframe tbody tr th {\n",
       "        vertical-align: top;\n",
       "    }\n",
       "\n",
       "    .dataframe thead th {\n",
       "        text-align: right;\n",
       "    }\n",
       "</style>\n",
       "<table border=\"1\" class=\"dataframe\">\n",
       "  <thead>\n",
       "    <tr style=\"text-align: right;\">\n",
       "      <th></th>\n",
       "      <th>Country name</th>\n",
       "      <th>Regional indicator</th>\n",
       "      <th>Ladder score</th>\n",
       "      <th>Standard error of ladder score</th>\n",
       "      <th>upperwhisker</th>\n",
       "      <th>lowerwhisker</th>\n",
       "      <th>Logged GDP per capita</th>\n",
       "      <th>Social support</th>\n",
       "      <th>Healthy life expectancy</th>\n",
       "      <th>Freedom to make life choices</th>\n",
       "      <th>Generosity</th>\n",
       "      <th>Perceptions of corruption</th>\n",
       "      <th>Ladder score in Dystopia</th>\n",
       "      <th>Explained by: Log GDP per capita</th>\n",
       "      <th>Explained by: Social support</th>\n",
       "      <th>Explained by: Healthy life expectancy</th>\n",
       "      <th>Explained by: Freedom to make life choices</th>\n",
       "      <th>Explained by: Generosity</th>\n",
       "      <th>Explained by: Perceptions of corruption</th>\n",
       "      <th>Dystopia + residual</th>\n",
       "    </tr>\n",
       "  </thead>\n",
       "  <tbody>\n",
       "    <tr>\n",
       "      <th>0</th>\n",
       "      <td>Finland</td>\n",
       "      <td>Western Europe</td>\n",
       "      <td>7.8087</td>\n",
       "      <td>0.031156</td>\n",
       "      <td>7.869766</td>\n",
       "      <td>7.747634</td>\n",
       "      <td>10.639267</td>\n",
       "      <td>0.954330</td>\n",
       "      <td>71.900825</td>\n",
       "      <td>0.949172</td>\n",
       "      <td>-0.059482</td>\n",
       "      <td>0.195445</td>\n",
       "      <td>1.972317</td>\n",
       "      <td>1.285190</td>\n",
       "      <td>1.499526</td>\n",
       "      <td>0.961271</td>\n",
       "      <td>0.662317</td>\n",
       "      <td>0.159670</td>\n",
       "      <td>0.477857</td>\n",
       "      <td>2.762835</td>\n",
       "    </tr>\n",
       "    <tr>\n",
       "      <th>1</th>\n",
       "      <td>Denmark</td>\n",
       "      <td>Western Europe</td>\n",
       "      <td>7.6456</td>\n",
       "      <td>0.033492</td>\n",
       "      <td>7.711245</td>\n",
       "      <td>7.579955</td>\n",
       "      <td>10.774001</td>\n",
       "      <td>0.955991</td>\n",
       "      <td>72.402504</td>\n",
       "      <td>0.951444</td>\n",
       "      <td>0.066202</td>\n",
       "      <td>0.168489</td>\n",
       "      <td>1.972317</td>\n",
       "      <td>1.326949</td>\n",
       "      <td>1.503449</td>\n",
       "      <td>0.979333</td>\n",
       "      <td>0.665040</td>\n",
       "      <td>0.242793</td>\n",
       "      <td>0.495260</td>\n",
       "      <td>2.432741</td>\n",
       "    </tr>\n",
       "    <tr>\n",
       "      <th>2</th>\n",
       "      <td>Switzerland</td>\n",
       "      <td>Western Europe</td>\n",
       "      <td>7.5599</td>\n",
       "      <td>0.035014</td>\n",
       "      <td>7.628528</td>\n",
       "      <td>7.491272</td>\n",
       "      <td>10.979933</td>\n",
       "      <td>0.942847</td>\n",
       "      <td>74.102448</td>\n",
       "      <td>0.921337</td>\n",
       "      <td>0.105911</td>\n",
       "      <td>0.303728</td>\n",
       "      <td>1.972317</td>\n",
       "      <td>1.390774</td>\n",
       "      <td>1.472403</td>\n",
       "      <td>1.040533</td>\n",
       "      <td>0.628954</td>\n",
       "      <td>0.269056</td>\n",
       "      <td>0.407946</td>\n",
       "      <td>2.350267</td>\n",
       "    </tr>\n",
       "    <tr>\n",
       "      <th>3</th>\n",
       "      <td>Iceland</td>\n",
       "      <td>Western Europe</td>\n",
       "      <td>7.5045</td>\n",
       "      <td>0.059616</td>\n",
       "      <td>7.621347</td>\n",
       "      <td>7.387653</td>\n",
       "      <td>10.772559</td>\n",
       "      <td>0.974670</td>\n",
       "      <td>73.000000</td>\n",
       "      <td>0.948892</td>\n",
       "      <td>0.246944</td>\n",
       "      <td>0.711710</td>\n",
       "      <td>1.972317</td>\n",
       "      <td>1.326502</td>\n",
       "      <td>1.547567</td>\n",
       "      <td>1.000843</td>\n",
       "      <td>0.661981</td>\n",
       "      <td>0.362330</td>\n",
       "      <td>0.144541</td>\n",
       "      <td>2.460688</td>\n",
       "    </tr>\n",
       "    <tr>\n",
       "      <th>4</th>\n",
       "      <td>Norway</td>\n",
       "      <td>Western Europe</td>\n",
       "      <td>7.4880</td>\n",
       "      <td>0.034837</td>\n",
       "      <td>7.556281</td>\n",
       "      <td>7.419719</td>\n",
       "      <td>11.087804</td>\n",
       "      <td>0.952487</td>\n",
       "      <td>73.200783</td>\n",
       "      <td>0.955750</td>\n",
       "      <td>0.134533</td>\n",
       "      <td>0.263218</td>\n",
       "      <td>1.972317</td>\n",
       "      <td>1.424207</td>\n",
       "      <td>1.495173</td>\n",
       "      <td>1.008072</td>\n",
       "      <td>0.670201</td>\n",
       "      <td>0.287985</td>\n",
       "      <td>0.434101</td>\n",
       "      <td>2.168266</td>\n",
       "    </tr>\n",
       "  </tbody>\n",
       "</table>\n",
       "</div>"
      ],
      "text/plain": [
       "  Country name Regional indicator  Ladder score  \\\n",
       "0      Finland     Western Europe        7.8087   \n",
       "1      Denmark     Western Europe        7.6456   \n",
       "2  Switzerland     Western Europe        7.5599   \n",
       "3      Iceland     Western Europe        7.5045   \n",
       "4       Norway     Western Europe        7.4880   \n",
       "\n",
       "   Standard error of ladder score  upperwhisker  lowerwhisker  \\\n",
       "0                        0.031156      7.869766      7.747634   \n",
       "1                        0.033492      7.711245      7.579955   \n",
       "2                        0.035014      7.628528      7.491272   \n",
       "3                        0.059616      7.621347      7.387653   \n",
       "4                        0.034837      7.556281      7.419719   \n",
       "\n",
       "   Logged GDP per capita  Social support  Healthy life expectancy  \\\n",
       "0              10.639267        0.954330                71.900825   \n",
       "1              10.774001        0.955991                72.402504   \n",
       "2              10.979933        0.942847                74.102448   \n",
       "3              10.772559        0.974670                73.000000   \n",
       "4              11.087804        0.952487                73.200783   \n",
       "\n",
       "   Freedom to make life choices  Generosity  Perceptions of corruption  \\\n",
       "0                      0.949172   -0.059482                   0.195445   \n",
       "1                      0.951444    0.066202                   0.168489   \n",
       "2                      0.921337    0.105911                   0.303728   \n",
       "3                      0.948892    0.246944                   0.711710   \n",
       "4                      0.955750    0.134533                   0.263218   \n",
       "\n",
       "   Ladder score in Dystopia  Explained by: Log GDP per capita  \\\n",
       "0                  1.972317                          1.285190   \n",
       "1                  1.972317                          1.326949   \n",
       "2                  1.972317                          1.390774   \n",
       "3                  1.972317                          1.326502   \n",
       "4                  1.972317                          1.424207   \n",
       "\n",
       "   Explained by: Social support  Explained by: Healthy life expectancy  \\\n",
       "0                      1.499526                               0.961271   \n",
       "1                      1.503449                               0.979333   \n",
       "2                      1.472403                               1.040533   \n",
       "3                      1.547567                               1.000843   \n",
       "4                      1.495173                               1.008072   \n",
       "\n",
       "   Explained by: Freedom to make life choices  Explained by: Generosity  \\\n",
       "0                                    0.662317                  0.159670   \n",
       "1                                    0.665040                  0.242793   \n",
       "2                                    0.628954                  0.269056   \n",
       "3                                    0.661981                  0.362330   \n",
       "4                                    0.670201                  0.287985   \n",
       "\n",
       "   Explained by: Perceptions of corruption  Dystopia + residual  \n",
       "0                                 0.477857             2.762835  \n",
       "1                                 0.495260             2.432741  \n",
       "2                                 0.407946             2.350267  \n",
       "3                                 0.144541             2.460688  \n",
       "4                                 0.434101             2.168266  "
      ]
     },
     "execution_count": 3,
     "metadata": {},
     "output_type": "execute_result"
    }
   ],
   "source": [
    "#happiness data comes from different source, look at column names\n",
    "happiness_df.head()"
   ]
  },
  {
   "cell_type": "code",
   "execution_count": 4,
   "id": "b4919d34",
   "metadata": {},
   "outputs": [],
   "source": [
    "#Rename columns\n",
    "gdp_df.rename(columns={\"GDP per capita\":\"GDP Per Capita\"},              inplace=True)\n",
    "happiness_df.rename(columns={\"Country name\":\"Country\"},                 inplace=True)\n",
    "happiness_df.rename(columns={'Ladder score': \"Happiness Score\"},        inplace=True)\n",
    "happiness_df.rename(columns={'Regional indicator': \"Region\"},           inplace=True)\n",
    "life_expec_df.rename(columns={\"Life expectancy\":\"Life Expectancy\"},     inplace=True)\n",
    "meat_df.rename(columns={\"Meat consumption\":\"Meat Consumption\"},         inplace=True)\n",
    "median_age_df.rename(columns={\"Median age\":\"Median Age\"},               inplace=True)\n",
    "pop_growth_df.rename(columns={\"Population growth\":\"Population Growth\"}, inplace=True)\n",
    "sex_df.rename(columns={\"Sex-ratio\":\"Sex Ratio\"},                        inplace=True)\n",
    "suicide_df.rename(columns={\"Suicide rate\":\"Suicide Rate\"},              inplace=True)\n",
    "urban_df.rename(columns={\"Urbanization rate\":\"Urbanization Rate\"},      inplace=True)"
   ]
  },
  {
   "cell_type": "code",
   "execution_count": 5,
   "id": "1dc17af3",
   "metadata": {},
   "outputs": [
    {
     "name": "stdout",
     "output_type": "stream",
     "text": [
      "Sex Guinea            2\n",
      "Virgin Islands    2\n",
      "Afghanistan       1\n",
      "Panama            1\n",
      "New Zealand       1\n",
      "                 ..\n",
      "Grenada           1\n",
      "Guam              1\n",
      "Guatemala         1\n",
      "Guernsey          1\n",
      "Zimbabwe          1\n",
      "Name: Country, Length: 224, dtype: int64\n"
     ]
    }
   ],
   "source": [
    "#find any duplicate records in dataframes\n",
    "\n",
    "# print(\"Fertility\", len(fertility_df))\n",
    "# print(\"GDP\",       len(gdp_df))  \n",
    "# print(\"LiftExp\",   len(life_expec_df))\n",
    "# print(\"Happiness\", len(happiness_df))\n",
    "# print(\"Meat\",      len(meat_df))     \n",
    "# print(\"Median\",    len(median_age_df)) \n",
    "# print(\"PopGrowth\", len(pop_growth_df)) \n",
    "print(\"Sex\",       sex_df['Country'].value_counts())      \n",
    "# print(\"Suicide\",   len(suicide_df))  \n",
    "# print(\"Urban\",     len(urban_df)) "
   ]
  },
  {
   "cell_type": "code",
   "execution_count": 6,
   "id": "731e24d3",
   "metadata": {},
   "outputs": [],
   "source": [
    "#Only keep 1st duplicated record\n",
    "gdp_df.drop_duplicates(subset=[\"Country\",\"ISO-code\"],        keep='first',inplace=True)\n",
    "life_expec_df.drop_duplicates(subset=[\"Country\",\"ISO-code\"], keep='first',inplace=True)\n",
    "meat_df.drop_duplicates(subset=[\"Country\",\"ISO-code\"],       keep='first',inplace=True)\n",
    "median_age_df.drop_duplicates(subset=[\"Country\",\"ISO-code\"], keep='first',inplace=True)\n",
    "pop_growth_df.drop_duplicates(subset=[\"Country\",\"ISO-code\"], keep='first',inplace=True)\n",
    "sex_df.drop_duplicates(subset=[\"Country\",\"ISO-code\"],        keep='first',inplace=True)\n",
    "suicide_df.drop_duplicates(subset=[\"Country\",\"ISO-code\"],    keep='first',inplace=True)\n",
    "urban_df.drop_duplicates(subset=[\"Country\",\"ISO-code\"],      keep='first',inplace=True)\n",
    "fertility_df.drop_duplicates(subset=[\"Country\",\"ISO-code\"],  keep='first',inplace=True)"
   ]
  },
  {
   "cell_type": "code",
   "execution_count": 7,
   "id": "7870dd8d",
   "metadata": {},
   "outputs": [
    {
     "name": "stdout",
     "output_type": "stream",
     "text": [
      "Fertility 199\n",
      "GDP 190\n",
      "LiftExp 184\n",
      "Happiness 153\n",
      "Meat 186\n",
      "Median 222\n",
      "PopGrowth 206\n",
      "Sex 224\n",
      "Suicide 181\n",
      "Urban 217\n"
     ]
    }
   ],
   "source": [
    "#print lengths of all dataframes to find the one with the most records to be the basis of the join\n",
    "print(\"Fertility\", len(fertility_df))\n",
    "print(\"GDP\",       len(gdp_df))  \n",
    "print(\"LiftExp\",   len(life_expec_df))\n",
    "print(\"Happiness\", len(happiness_df))\n",
    "print(\"Meat\",      len(meat_df))     \n",
    "print(\"Median\",    len(median_age_df)) \n",
    "print(\"PopGrowth\", len(pop_growth_df)) \n",
    "print(\"Sex\",       len(sex_df))       \n",
    "print(\"Suicide\",   len(suicide_df))  \n",
    "print(\"Urban\",     len(urban_df)) "
   ]
  },
  {
   "cell_type": "code",
   "execution_count": 8,
   "id": "2c0abdaf",
   "metadata": {},
   "outputs": [],
   "source": [
    "#merge data into one data frame--starting with all data from same source\n",
    "merged_df = pd.merge(sex_df,fertility_df,  how=\"left\",  on=[\"Country\",\"ISO-code\"])\n",
    "merged_df = pd.merge(merged_df,gdp_df,  how=\"left\", on=[\"Country\",\"ISO-code\"])\n",
    "merged_df = pd.merge(merged_df,life_expec_df,  how=\"left\", on=[\"Country\",\"ISO-code\"])\n",
    "merged_df = pd.merge(merged_df,meat_df,  how=\"left\", on=[\"Country\", \"ISO-code\"])\n",
    "merged_df = pd.merge(merged_df,median_age_df,  how=\"left\", on=[\"Country\",\"ISO-code\"])\n",
    "merged_df = pd.merge(merged_df,pop_growth_df,  how=\"left\", on=[\"Country\",\"ISO-code\"])\n",
    "merged_df = pd.merge(merged_df,suicide_df,  how=\"left\", on=[\"Country\",\"ISO-code\"])\n",
    "merged_df = pd.merge(merged_df,urban_df,  how=\"left\", on=[\"Country\",\"ISO-code\"])"
   ]
  },
  {
   "cell_type": "code",
   "execution_count": 9,
   "id": "b86ce106",
   "metadata": {},
   "outputs": [],
   "source": [
    "#add in happiness data\n",
    "merged_df = pd.merge(merged_df,happiness_df,  how=\"left\", on=[\"Country\"])\n",
    "merged_df.drop(columns=[\"Standard error of ladder score\",\n",
    "                         \"upperwhisker\", \n",
    "                         \"lowerwhisker\",\n",
    "                         \"Logged GDP per capita\",\n",
    "                         \"Social support\",\n",
    "                         \"Healthy life expectancy\",\n",
    "                         \"Freedom to make life choices\",\n",
    "                         \"Generosity\",\n",
    "                         \"Perceptions of corruption\",\n",
    "                         \"Ladder score in Dystopia\",\n",
    "                         \"Explained by: Log GDP per capita\",\n",
    "                         \"Explained by: Social support\",\n",
    "                         \"Explained by: Healthy life expectancy\",\n",
    "                         \"Explained by: Freedom to make life choices\",\n",
    "                         \"Explained by: Generosity\",\n",
    "                         \"Explained by: Perceptions of corruption\",\n",
    "                         \"Dystopia + residual\"],axis=1,inplace=True)"
   ]
  },
  {
   "cell_type": "code",
   "execution_count": 10,
   "id": "e0474c35",
   "metadata": {
    "scrolled": true
   },
   "outputs": [
    {
     "data": {
      "text/html": [
       "<div>\n",
       "<style scoped>\n",
       "    .dataframe tbody tr th:only-of-type {\n",
       "        vertical-align: middle;\n",
       "    }\n",
       "\n",
       "    .dataframe tbody tr th {\n",
       "        vertical-align: top;\n",
       "    }\n",
       "\n",
       "    .dataframe thead th {\n",
       "        text-align: right;\n",
       "    }\n",
       "</style>\n",
       "<table border=\"1\" class=\"dataframe\">\n",
       "  <thead>\n",
       "    <tr style=\"text-align: right;\">\n",
       "      <th></th>\n",
       "      <th>Country</th>\n",
       "      <th>Sex Ratio</th>\n",
       "      <th>ISO-code</th>\n",
       "      <th>Fertility</th>\n",
       "      <th>GDP Per Capita</th>\n",
       "      <th>Life Expectancy</th>\n",
       "      <th>Meat Consumption</th>\n",
       "      <th>Median Age</th>\n",
       "      <th>Population Growth</th>\n",
       "      <th>Suicide Rate</th>\n",
       "      <th>Urbanization Rate</th>\n",
       "      <th>Region</th>\n",
       "      <th>Happiness Score</th>\n",
       "    </tr>\n",
       "  </thead>\n",
       "  <tbody>\n",
       "    <tr>\n",
       "      <th>0</th>\n",
       "      <td>Afghanistan</td>\n",
       "      <td>1.03</td>\n",
       "      <td>AFG</td>\n",
       "      <td>4.5</td>\n",
       "      <td>2182.0</td>\n",
       "      <td>64.5</td>\n",
       "      <td>17.3</td>\n",
       "      <td>27.4</td>\n",
       "      <td>2.41</td>\n",
       "      <td>6.4</td>\n",
       "      <td>26.0</td>\n",
       "      <td>South Asia</td>\n",
       "      <td>2.5669</td>\n",
       "    </tr>\n",
       "    <tr>\n",
       "      <th>1</th>\n",
       "      <td>Albania</td>\n",
       "      <td>0.98</td>\n",
       "      <td>ALB</td>\n",
       "      <td>1.6</td>\n",
       "      <td>14866.0</td>\n",
       "      <td>NaN</td>\n",
       "      <td>NaN</td>\n",
       "      <td>32.9</td>\n",
       "      <td>0.26</td>\n",
       "      <td>5.6</td>\n",
       "      <td>62.1</td>\n",
       "      <td>Central and Eastern Europe</td>\n",
       "      <td>4.8827</td>\n",
       "    </tr>\n",
       "    <tr>\n",
       "      <th>2</th>\n",
       "      <td>Algeria</td>\n",
       "      <td>1.03</td>\n",
       "      <td>DZA</td>\n",
       "      <td>3.0</td>\n",
       "      <td>16091.0</td>\n",
       "      <td>76.7</td>\n",
       "      <td>18.3</td>\n",
       "      <td>28.1</td>\n",
       "      <td>1.89</td>\n",
       "      <td>3.3</td>\n",
       "      <td>73.7</td>\n",
       "      <td>Middle East and North Africa</td>\n",
       "      <td>5.0051</td>\n",
       "    </tr>\n",
       "    <tr>\n",
       "      <th>3</th>\n",
       "      <td>American Samoa</td>\n",
       "      <td>1.00</td>\n",
       "      <td>ASM</td>\n",
       "      <td>NaN</td>\n",
       "      <td>NaN</td>\n",
       "      <td>NaN</td>\n",
       "      <td>24.9</td>\n",
       "      <td>25.5</td>\n",
       "      <td>-0.26</td>\n",
       "      <td>NaN</td>\n",
       "      <td>87.2</td>\n",
       "      <td>NaN</td>\n",
       "      <td>NaN</td>\n",
       "    </tr>\n",
       "    <tr>\n",
       "      <th>4</th>\n",
       "      <td>Andorra</td>\n",
       "      <td>1.06</td>\n",
       "      <td>AND</td>\n",
       "      <td>1.3</td>\n",
       "      <td>NaN</td>\n",
       "      <td>81.8</td>\n",
       "      <td>NaN</td>\n",
       "      <td>44.3</td>\n",
       "      <td>0.63</td>\n",
       "      <td>NaN</td>\n",
       "      <td>87.9</td>\n",
       "      <td>NaN</td>\n",
       "      <td>NaN</td>\n",
       "    </tr>\n",
       "  </tbody>\n",
       "</table>\n",
       "</div>"
      ],
      "text/plain": [
       "          Country  Sex Ratio ISO-code  Fertility  GDP Per Capita  \\\n",
       "0     Afghanistan       1.03      AFG        4.5          2182.0   \n",
       "1         Albania       0.98      ALB        1.6         14866.0   \n",
       "2         Algeria       1.03      DZA        3.0         16091.0   \n",
       "3  American Samoa       1.00      ASM        NaN             NaN   \n",
       "4         Andorra       1.06      AND        1.3             NaN   \n",
       "\n",
       "   Life Expectancy  Meat Consumption  Median Age  Population Growth  \\\n",
       "0             64.5              17.3        27.4               2.41   \n",
       "1              NaN               NaN        32.9               0.26   \n",
       "2             76.7              18.3        28.1               1.89   \n",
       "3              NaN              24.9        25.5              -0.26   \n",
       "4             81.8               NaN        44.3               0.63   \n",
       "\n",
       "   Suicide Rate  Urbanization Rate                        Region  \\\n",
       "0           6.4               26.0                    South Asia   \n",
       "1           5.6               62.1    Central and Eastern Europe   \n",
       "2           3.3               73.7  Middle East and North Africa   \n",
       "3           NaN               87.2                           NaN   \n",
       "4           NaN               87.9                           NaN   \n",
       "\n",
       "   Happiness Score  \n",
       "0           2.5669  \n",
       "1           4.8827  \n",
       "2           5.0051  \n",
       "3              NaN  \n",
       "4              NaN  "
      ]
     },
     "execution_count": 10,
     "metadata": {},
     "output_type": "execute_result"
    }
   ],
   "source": [
    "merged_df.head()"
   ]
  },
  {
   "cell_type": "code",
   "execution_count": 11,
   "id": "defb2177",
   "metadata": {},
   "outputs": [
    {
     "data": {
      "text/plain": [
       "224"
      ]
     },
     "execution_count": 11,
     "metadata": {},
     "output_type": "execute_result"
    }
   ],
   "source": [
    "#How many countries are listed, same as the number of rows of data\n",
    "merged_df[\"Country\"].count()"
   ]
  },
  {
   "cell_type": "code",
   "execution_count": 12,
   "id": "fb4657df",
   "metadata": {},
   "outputs": [
    {
     "data": {
      "text/plain": [
       "Country               object\n",
       "Sex Ratio            float64\n",
       "ISO-code              object\n",
       "Fertility            float64\n",
       "GDP Per Capita       float64\n",
       "Life Expectancy      float64\n",
       "Meat Consumption     float64\n",
       "Median Age           float64\n",
       "Population Growth    float64\n",
       "Suicide Rate         float64\n",
       "Urbanization Rate    float64\n",
       "Region                object\n",
       "Happiness Score      float64\n",
       "dtype: object"
      ]
     },
     "execution_count": 12,
     "metadata": {},
     "output_type": "execute_result"
    }
   ],
   "source": [
    "#check all numbers are integer/float types for plotting\n",
    "merged_df.dtypes"
   ]
  },
  {
   "cell_type": "code",
   "execution_count": 13,
   "id": "bf1de7a5",
   "metadata": {},
   "outputs": [
    {
     "data": {
      "text/html": [
       "<div>\n",
       "<style scoped>\n",
       "    .dataframe tbody tr th:only-of-type {\n",
       "        vertical-align: middle;\n",
       "    }\n",
       "\n",
       "    .dataframe tbody tr th {\n",
       "        vertical-align: top;\n",
       "    }\n",
       "\n",
       "    .dataframe thead th {\n",
       "        text-align: right;\n",
       "    }\n",
       "</style>\n",
       "<table border=\"1\" class=\"dataframe\">\n",
       "  <thead>\n",
       "    <tr style=\"text-align: right;\">\n",
       "      <th></th>\n",
       "      <th>Sex Ratio</th>\n",
       "      <th>Fertility</th>\n",
       "      <th>GDP Per Capita</th>\n",
       "      <th>Life Expectancy</th>\n",
       "      <th>Meat Consumption</th>\n",
       "      <th>Median Age</th>\n",
       "      <th>Population Growth</th>\n",
       "      <th>Suicide Rate</th>\n",
       "      <th>Urbanization Rate</th>\n",
       "      <th>Happiness Score</th>\n",
       "    </tr>\n",
       "  </thead>\n",
       "  <tbody>\n",
       "    <tr>\n",
       "      <th>count</th>\n",
       "      <td>224.000000</td>\n",
       "      <td>199.000000</td>\n",
       "      <td>190.000000</td>\n",
       "      <td>183.000000</td>\n",
       "      <td>182.000000</td>\n",
       "      <td>221.000000</td>\n",
       "      <td>205.000000</td>\n",
       "      <td>181.000000</td>\n",
       "      <td>215.000000</td>\n",
       "      <td>143.000000</td>\n",
       "    </tr>\n",
       "    <tr>\n",
       "      <th>mean</th>\n",
       "      <td>1.006339</td>\n",
       "      <td>2.646834</td>\n",
       "      <td>22687.718421</td>\n",
       "      <td>72.215027</td>\n",
       "      <td>45.446703</td>\n",
       "      <td>30.833032</td>\n",
       "      <td>1.369171</td>\n",
       "      <td>9.731492</td>\n",
       "      <td>61.594419</td>\n",
       "      <td>5.491626</td>\n",
       "    </tr>\n",
       "    <tr>\n",
       "      <th>std</th>\n",
       "      <td>0.204154</td>\n",
       "      <td>1.227961</td>\n",
       "      <td>22687.027969</td>\n",
       "      <td>7.478398</td>\n",
       "      <td>34.959013</td>\n",
       "      <td>8.850380</td>\n",
       "      <td>1.267994</td>\n",
       "      <td>5.535447</td>\n",
       "      <td>23.898130</td>\n",
       "      <td>1.132267</td>\n",
       "    </tr>\n",
       "    <tr>\n",
       "      <th>min</th>\n",
       "      <td>0.830000</td>\n",
       "      <td>1.100000</td>\n",
       "      <td>314.500000</td>\n",
       "      <td>52.800000</td>\n",
       "      <td>3.000000</td>\n",
       "      <td>15.400000</td>\n",
       "      <td>-1.600000</td>\n",
       "      <td>0.400000</td>\n",
       "      <td>9.100000</td>\n",
       "      <td>2.566900</td>\n",
       "    </tr>\n",
       "    <tr>\n",
       "      <th>25%</th>\n",
       "      <td>0.950000</td>\n",
       "      <td>1.700000</td>\n",
       "      <td>5303.000000</td>\n",
       "      <td>67.000000</td>\n",
       "      <td>15.325000</td>\n",
       "      <td>23.100000</td>\n",
       "      <td>0.450000</td>\n",
       "      <td>5.800000</td>\n",
       "      <td>42.800000</td>\n",
       "      <td>4.726700</td>\n",
       "    </tr>\n",
       "    <tr>\n",
       "      <th>50%</th>\n",
       "      <td>0.985000</td>\n",
       "      <td>2.200000</td>\n",
       "      <td>14991.500000</td>\n",
       "      <td>73.400000</td>\n",
       "      <td>34.950000</td>\n",
       "      <td>30.300000</td>\n",
       "      <td>1.240000</td>\n",
       "      <td>9.100000</td>\n",
       "      <td>62.600000</td>\n",
       "      <td>5.541500</td>\n",
       "    </tr>\n",
       "    <tr>\n",
       "      <th>75%</th>\n",
       "      <td>1.010000</td>\n",
       "      <td>3.550000</td>\n",
       "      <td>33642.750000</td>\n",
       "      <td>77.250000</td>\n",
       "      <td>70.600000</td>\n",
       "      <td>38.700000</td>\n",
       "      <td>2.170000</td>\n",
       "      <td>12.800000</td>\n",
       "      <td>81.200000</td>\n",
       "      <td>6.243050</td>\n",
       "    </tr>\n",
       "    <tr>\n",
       "      <th>max</th>\n",
       "      <td>3.390000</td>\n",
       "      <td>6.100000</td>\n",
       "      <td>113352.000000</td>\n",
       "      <td>84.700000</td>\n",
       "      <td>145.900000</td>\n",
       "      <td>53.100000</td>\n",
       "      <td>9.130000</td>\n",
       "      <td>30.200000</td>\n",
       "      <td>100.000000</td>\n",
       "      <td>7.808700</td>\n",
       "    </tr>\n",
       "  </tbody>\n",
       "</table>\n",
       "</div>"
      ],
      "text/plain": [
       "        Sex Ratio   Fertility  GDP Per Capita  Life Expectancy  \\\n",
       "count  224.000000  199.000000      190.000000       183.000000   \n",
       "mean     1.006339    2.646834    22687.718421        72.215027   \n",
       "std      0.204154    1.227961    22687.027969         7.478398   \n",
       "min      0.830000    1.100000      314.500000        52.800000   \n",
       "25%      0.950000    1.700000     5303.000000        67.000000   \n",
       "50%      0.985000    2.200000    14991.500000        73.400000   \n",
       "75%      1.010000    3.550000    33642.750000        77.250000   \n",
       "max      3.390000    6.100000   113352.000000        84.700000   \n",
       "\n",
       "       Meat Consumption  Median Age  Population Growth  Suicide Rate  \\\n",
       "count        182.000000  221.000000         205.000000    181.000000   \n",
       "mean          45.446703   30.833032           1.369171      9.731492   \n",
       "std           34.959013    8.850380           1.267994      5.535447   \n",
       "min            3.000000   15.400000          -1.600000      0.400000   \n",
       "25%           15.325000   23.100000           0.450000      5.800000   \n",
       "50%           34.950000   30.300000           1.240000      9.100000   \n",
       "75%           70.600000   38.700000           2.170000     12.800000   \n",
       "max          145.900000   53.100000           9.130000     30.200000   \n",
       "\n",
       "       Urbanization Rate  Happiness Score  \n",
       "count         215.000000       143.000000  \n",
       "mean           61.594419         5.491626  \n",
       "std            23.898130         1.132267  \n",
       "min             9.100000         2.566900  \n",
       "25%            42.800000         4.726700  \n",
       "50%            62.600000         5.541500  \n",
       "75%            81.200000         6.243050  \n",
       "max           100.000000         7.808700  "
      ]
     },
     "execution_count": 13,
     "metadata": {},
     "output_type": "execute_result"
    }
   ],
   "source": [
    "#check for any unusual min/max data points\n",
    "merged_df.describe()"
   ]
  },
  {
   "cell_type": "code",
   "execution_count": 14,
   "id": "ff19f280",
   "metadata": {},
   "outputs": [
    {
     "data": {
      "text/html": [
       "<div>\n",
       "<style scoped>\n",
       "    .dataframe tbody tr th:only-of-type {\n",
       "        vertical-align: middle;\n",
       "    }\n",
       "\n",
       "    .dataframe tbody tr th {\n",
       "        vertical-align: top;\n",
       "    }\n",
       "\n",
       "    .dataframe thead th {\n",
       "        text-align: right;\n",
       "    }\n",
       "</style>\n",
       "<table border=\"1\" class=\"dataframe\">\n",
       "  <thead>\n",
       "    <tr style=\"text-align: right;\">\n",
       "      <th></th>\n",
       "      <th>Sex Ratio</th>\n",
       "      <th>Fertility</th>\n",
       "      <th>GDP Per Capita</th>\n",
       "      <th>Life Expectancy</th>\n",
       "      <th>Meat Consumption</th>\n",
       "      <th>Median Age</th>\n",
       "      <th>Population Growth</th>\n",
       "      <th>Suicide Rate</th>\n",
       "      <th>Urbanization Rate</th>\n",
       "      <th>Happiness Score</th>\n",
       "    </tr>\n",
       "  </thead>\n",
       "  <tbody>\n",
       "    <tr>\n",
       "      <th>Sex Ratio</th>\n",
       "      <td>1.000000</td>\n",
       "      <td>-0.043403</td>\n",
       "      <td>0.175163</td>\n",
       "      <td>0.049815</td>\n",
       "      <td>0.116298</td>\n",
       "      <td>-0.045665</td>\n",
       "      <td>0.401431</td>\n",
       "      <td>-0.190586</td>\n",
       "      <td>0.128364</td>\n",
       "      <td>0.089650</td>\n",
       "    </tr>\n",
       "    <tr>\n",
       "      <th>Fertility</th>\n",
       "      <td>-0.043403</td>\n",
       "      <td>1.000000</td>\n",
       "      <td>-0.620067</td>\n",
       "      <td>-0.847344</td>\n",
       "      <td>-0.598771</td>\n",
       "      <td>-0.862931</td>\n",
       "      <td>0.624794</td>\n",
       "      <td>0.119895</td>\n",
       "      <td>-0.539265</td>\n",
       "      <td>-0.661711</td>\n",
       "    </tr>\n",
       "    <tr>\n",
       "      <th>GDP Per Capita</th>\n",
       "      <td>0.175163</td>\n",
       "      <td>-0.620067</td>\n",
       "      <td>1.000000</td>\n",
       "      <td>0.700664</td>\n",
       "      <td>0.714644</td>\n",
       "      <td>0.677047</td>\n",
       "      <td>-0.229931</td>\n",
       "      <td>-0.035751</td>\n",
       "      <td>0.629508</td>\n",
       "      <td>0.745166</td>\n",
       "    </tr>\n",
       "    <tr>\n",
       "      <th>Life Expectancy</th>\n",
       "      <td>0.049815</td>\n",
       "      <td>-0.847344</td>\n",
       "      <td>0.700664</td>\n",
       "      <td>1.000000</td>\n",
       "      <td>0.685394</td>\n",
       "      <td>0.823798</td>\n",
       "      <td>-0.521284</td>\n",
       "      <td>-0.287560</td>\n",
       "      <td>0.592238</td>\n",
       "      <td>0.771523</td>\n",
       "    </tr>\n",
       "    <tr>\n",
       "      <th>Meat Consumption</th>\n",
       "      <td>0.116298</td>\n",
       "      <td>-0.598771</td>\n",
       "      <td>0.714644</td>\n",
       "      <td>0.685394</td>\n",
       "      <td>1.000000</td>\n",
       "      <td>0.659112</td>\n",
       "      <td>-0.349692</td>\n",
       "      <td>-0.098811</td>\n",
       "      <td>0.534874</td>\n",
       "      <td>0.744284</td>\n",
       "    </tr>\n",
       "    <tr>\n",
       "      <th>Median Age</th>\n",
       "      <td>-0.045665</td>\n",
       "      <td>-0.862931</td>\n",
       "      <td>0.677047</td>\n",
       "      <td>0.823798</td>\n",
       "      <td>0.659112</td>\n",
       "      <td>1.000000</td>\n",
       "      <td>-0.665013</td>\n",
       "      <td>0.017984</td>\n",
       "      <td>0.492915</td>\n",
       "      <td>0.679637</td>\n",
       "    </tr>\n",
       "    <tr>\n",
       "      <th>Population Growth</th>\n",
       "      <td>0.401431</td>\n",
       "      <td>0.624794</td>\n",
       "      <td>-0.229931</td>\n",
       "      <td>-0.521284</td>\n",
       "      <td>-0.349692</td>\n",
       "      <td>-0.665013</td>\n",
       "      <td>1.000000</td>\n",
       "      <td>-0.138674</td>\n",
       "      <td>-0.252989</td>\n",
       "      <td>-0.462585</td>\n",
       "    </tr>\n",
       "    <tr>\n",
       "      <th>Suicide Rate</th>\n",
       "      <td>-0.190586</td>\n",
       "      <td>0.119895</td>\n",
       "      <td>-0.035751</td>\n",
       "      <td>-0.287560</td>\n",
       "      <td>-0.098811</td>\n",
       "      <td>0.017984</td>\n",
       "      <td>-0.138674</td>\n",
       "      <td>1.000000</td>\n",
       "      <td>-0.049334</td>\n",
       "      <td>-0.066812</td>\n",
       "    </tr>\n",
       "    <tr>\n",
       "      <th>Urbanization Rate</th>\n",
       "      <td>0.128364</td>\n",
       "      <td>-0.539265</td>\n",
       "      <td>0.629508</td>\n",
       "      <td>0.592238</td>\n",
       "      <td>0.534874</td>\n",
       "      <td>0.492915</td>\n",
       "      <td>-0.252989</td>\n",
       "      <td>-0.049334</td>\n",
       "      <td>1.000000</td>\n",
       "      <td>0.676126</td>\n",
       "    </tr>\n",
       "    <tr>\n",
       "      <th>Happiness Score</th>\n",
       "      <td>0.089650</td>\n",
       "      <td>-0.661711</td>\n",
       "      <td>0.745166</td>\n",
       "      <td>0.771523</td>\n",
       "      <td>0.744284</td>\n",
       "      <td>0.679637</td>\n",
       "      <td>-0.462585</td>\n",
       "      <td>-0.066812</td>\n",
       "      <td>0.676126</td>\n",
       "      <td>1.000000</td>\n",
       "    </tr>\n",
       "  </tbody>\n",
       "</table>\n",
       "</div>"
      ],
      "text/plain": [
       "                   Sex Ratio  Fertility  GDP Per Capita  Life Expectancy  \\\n",
       "Sex Ratio           1.000000  -0.043403        0.175163         0.049815   \n",
       "Fertility          -0.043403   1.000000       -0.620067        -0.847344   \n",
       "GDP Per Capita      0.175163  -0.620067        1.000000         0.700664   \n",
       "Life Expectancy     0.049815  -0.847344        0.700664         1.000000   \n",
       "Meat Consumption    0.116298  -0.598771        0.714644         0.685394   \n",
       "Median Age         -0.045665  -0.862931        0.677047         0.823798   \n",
       "Population Growth   0.401431   0.624794       -0.229931        -0.521284   \n",
       "Suicide Rate       -0.190586   0.119895       -0.035751        -0.287560   \n",
       "Urbanization Rate   0.128364  -0.539265        0.629508         0.592238   \n",
       "Happiness Score     0.089650  -0.661711        0.745166         0.771523   \n",
       "\n",
       "                   Meat Consumption  Median Age  Population Growth  \\\n",
       "Sex Ratio                  0.116298   -0.045665           0.401431   \n",
       "Fertility                 -0.598771   -0.862931           0.624794   \n",
       "GDP Per Capita             0.714644    0.677047          -0.229931   \n",
       "Life Expectancy            0.685394    0.823798          -0.521284   \n",
       "Meat Consumption           1.000000    0.659112          -0.349692   \n",
       "Median Age                 0.659112    1.000000          -0.665013   \n",
       "Population Growth         -0.349692   -0.665013           1.000000   \n",
       "Suicide Rate              -0.098811    0.017984          -0.138674   \n",
       "Urbanization Rate          0.534874    0.492915          -0.252989   \n",
       "Happiness Score            0.744284    0.679637          -0.462585   \n",
       "\n",
       "                   Suicide Rate  Urbanization Rate  Happiness Score  \n",
       "Sex Ratio             -0.190586           0.128364         0.089650  \n",
       "Fertility              0.119895          -0.539265        -0.661711  \n",
       "GDP Per Capita        -0.035751           0.629508         0.745166  \n",
       "Life Expectancy       -0.287560           0.592238         0.771523  \n",
       "Meat Consumption      -0.098811           0.534874         0.744284  \n",
       "Median Age             0.017984           0.492915         0.679637  \n",
       "Population Growth     -0.138674          -0.252989        -0.462585  \n",
       "Suicide Rate           1.000000          -0.049334        -0.066812  \n",
       "Urbanization Rate     -0.049334           1.000000         0.676126  \n",
       "Happiness Score       -0.066812           0.676126         1.000000  "
      ]
     },
     "execution_count": 14,
     "metadata": {},
     "output_type": "execute_result"
    }
   ],
   "source": [
    "#examine relationships between all metrics\n",
    "merged_df.corr()"
   ]
  },
  {
   "cell_type": "code",
   "execution_count": 15,
   "id": "fa6fc3bd",
   "metadata": {},
   "outputs": [
    {
     "data": {
      "text/html": [
       "<div>\n",
       "<style scoped>\n",
       "    .dataframe tbody tr th:only-of-type {\n",
       "        vertical-align: middle;\n",
       "    }\n",
       "\n",
       "    .dataframe tbody tr th {\n",
       "        vertical-align: top;\n",
       "    }\n",
       "\n",
       "    .dataframe thead th {\n",
       "        text-align: right;\n",
       "    }\n",
       "</style>\n",
       "<table border=\"1\" class=\"dataframe\">\n",
       "  <thead>\n",
       "    <tr style=\"text-align: right;\">\n",
       "      <th></th>\n",
       "      <th>Country</th>\n",
       "      <th>ISO-code</th>\n",
       "      <th>Region</th>\n",
       "      <th>Fertility</th>\n",
       "      <th>GDP Per Capita</th>\n",
       "      <th>Life Expectancy</th>\n",
       "      <th>Meat Consumption</th>\n",
       "      <th>Urbanization Rate</th>\n",
       "      <th>Happiness Score</th>\n",
       "    </tr>\n",
       "  </thead>\n",
       "  <tbody>\n",
       "    <tr>\n",
       "      <th>0</th>\n",
       "      <td>Afghanistan</td>\n",
       "      <td>AFG</td>\n",
       "      <td>South Asia</td>\n",
       "      <td>4.5</td>\n",
       "      <td>2182.0</td>\n",
       "      <td>64.5</td>\n",
       "      <td>17.3</td>\n",
       "      <td>26.0</td>\n",
       "      <td>2.5669</td>\n",
       "    </tr>\n",
       "    <tr>\n",
       "      <th>1</th>\n",
       "      <td>Albania</td>\n",
       "      <td>ALB</td>\n",
       "      <td>Central and Eastern Europe</td>\n",
       "      <td>1.6</td>\n",
       "      <td>14866.0</td>\n",
       "      <td>NaN</td>\n",
       "      <td>NaN</td>\n",
       "      <td>62.1</td>\n",
       "      <td>4.8827</td>\n",
       "    </tr>\n",
       "    <tr>\n",
       "      <th>2</th>\n",
       "      <td>Algeria</td>\n",
       "      <td>DZA</td>\n",
       "      <td>Middle East and North Africa</td>\n",
       "      <td>3.0</td>\n",
       "      <td>16091.0</td>\n",
       "      <td>76.7</td>\n",
       "      <td>18.3</td>\n",
       "      <td>73.7</td>\n",
       "      <td>5.0051</td>\n",
       "    </tr>\n",
       "    <tr>\n",
       "      <th>3</th>\n",
       "      <td>American Samoa</td>\n",
       "      <td>ASM</td>\n",
       "      <td>NaN</td>\n",
       "      <td>NaN</td>\n",
       "      <td>NaN</td>\n",
       "      <td>NaN</td>\n",
       "      <td>24.9</td>\n",
       "      <td>87.2</td>\n",
       "      <td>NaN</td>\n",
       "    </tr>\n",
       "    <tr>\n",
       "      <th>4</th>\n",
       "      <td>Andorra</td>\n",
       "      <td>AND</td>\n",
       "      <td>NaN</td>\n",
       "      <td>1.3</td>\n",
       "      <td>NaN</td>\n",
       "      <td>81.8</td>\n",
       "      <td>NaN</td>\n",
       "      <td>87.9</td>\n",
       "      <td>NaN</td>\n",
       "    </tr>\n",
       "  </tbody>\n",
       "</table>\n",
       "</div>"
      ],
      "text/plain": [
       "          Country ISO-code                        Region  Fertility  \\\n",
       "0     Afghanistan      AFG                    South Asia        4.5   \n",
       "1         Albania      ALB    Central and Eastern Europe        1.6   \n",
       "2         Algeria      DZA  Middle East and North Africa        3.0   \n",
       "3  American Samoa      ASM                           NaN        NaN   \n",
       "4         Andorra      AND                           NaN        1.3   \n",
       "\n",
       "   GDP Per Capita  Life Expectancy  Meat Consumption  Urbanization Rate  \\\n",
       "0          2182.0             64.5              17.3               26.0   \n",
       "1         14866.0              NaN               NaN               62.1   \n",
       "2         16091.0             76.7              18.3               73.7   \n",
       "3             NaN              NaN              24.9               87.2   \n",
       "4             NaN             81.8               NaN               87.9   \n",
       "\n",
       "   Happiness Score  \n",
       "0           2.5669  \n",
       "1           4.8827  \n",
       "2           5.0051  \n",
       "3              NaN  \n",
       "4              NaN  "
      ]
     },
     "execution_count": 15,
     "metadata": {},
     "output_type": "execute_result"
    }
   ],
   "source": [
    "#drop columns that we aren't using for analysis\n",
    "merged_df_small = merged_df[[\"Country\", 'ISO-code','Region', 'Fertility','GDP Per Capita','Life Expectancy','Meat Consumption','Urbanization Rate','Happiness Score']]\n",
    "merged_df_small.head()                             "
   ]
  },
  {
   "cell_type": "code",
   "execution_count": 16,
   "id": "39666972",
   "metadata": {
    "scrolled": true
   },
   "outputs": [
    {
     "name": "stdout",
     "output_type": "stream",
     "text": [
      "Country               0\n",
      "ISO-code              1\n",
      "Region               81\n",
      "Fertility            25\n",
      "GDP Per Capita       34\n",
      "Life Expectancy      41\n",
      "Meat Consumption     42\n",
      "Urbanization Rate     9\n",
      "Happiness Score      81\n",
      "dtype: int64\n"
     ]
    }
   ],
   "source": [
    "#identify how much data is missing for each column, want to have full for meat consumption\n",
    "print(merged_df_small.isna().sum())"
   ]
  },
  {
   "cell_type": "code",
   "execution_count": 17,
   "id": "488f87be",
   "metadata": {},
   "outputs": [
    {
     "name": "stdout",
     "output_type": "stream",
     "text": [
      "Country               0\n",
      "ISO-code              0\n",
      "Region               42\n",
      "Fertility             5\n",
      "GDP Per Capita        9\n",
      "Life Expectancy      11\n",
      "Meat Consumption      0\n",
      "Urbanization Rate     4\n",
      "Happiness Score      42\n",
      "dtype: int64\n"
     ]
    }
   ],
   "source": [
    "#dropping records that are nan for meat consumption\n",
    "nan_records = merged_df_small.loc[merged_df_small[\"Meat Consumption\"].isna()]\n",
    "nan_record_list = list(nan_records[\"Country\"])\n",
    "\n",
    "noblanksmeat_df = merged_df_small.loc[~merged_df_small[\"Country\"].isin(nan_record_list)]\n",
    "\n",
    "print(noblanksmeat_df.isna().sum())"
   ]
  },
  {
   "cell_type": "code",
   "execution_count": 18,
   "id": "fc42f47c",
   "metadata": {},
   "outputs": [
    {
     "name": "stdout",
     "output_type": "stream",
     "text": [
      "The following 42 countires were removed from analysis for lack of data on Meat Consumption ['Albania', 'Andorra', 'Anguilla', 'Aruba', 'Bermuda', 'Brunei', 'Cayman Islands', 'Cook Islands', 'Curacao', 'Equatorial Guinea', 'Eswatini', 'Faroe Islands', 'Gaza Strip', 'Gibraltar', 'Guernsey', 'Hong Kong', 'Isle of Man', 'Jersey', 'Liechtenstein', 'Macau', 'Marshall Islands', 'Micronesia', 'Monaco', 'Montenegro', 'Montserrat', 'Nauru', 'Northern Mariana Islands', 'Palau', 'Puerto Rico', 'Saint Barthelemy', 'Saint Helena, Ascension and Tristan da Cunha', 'Saint Martin', 'Saint Pierre and Miquelon', 'San Marino', 'Serbia', 'Sint Maarten', 'Taiwan', 'Tonga', 'Turks and Caicos Islands', 'Tuvalu', 'Wallis and Futuna', 'Western Sahara'].\n"
     ]
    }
   ],
   "source": [
    "print(f'The following {len(nan_record_list)} countires were removed from analysis for lack of data on Meat Consumption {nan_record_list}.')"
   ]
  },
  {
   "cell_type": "markdown",
   "id": "4e9eb585",
   "metadata": {},
   "source": [
    "## Meat consumption vs Happiness Score"
   ]
  },
  {
   "cell_type": "code",
   "execution_count": 19,
   "id": "8c2be591",
   "metadata": {},
   "outputs": [
    {
     "name": "stdout",
     "output_type": "stream",
     "text": [
      "The following 42 countires were removed from analysis for lack of data on Happiness Score ['American Samoa', 'Angola', 'Antigua and Barbuda', 'The Bahamas', 'Barbados', 'Belize', 'Bhutan', 'Cape Verde', 'Democratic Republic of the Congo', 'Republic of the Congo', 'Cuba', 'Djibouti', 'Dominica', 'Eritrea', 'Fiji', 'French Polynesia', 'The Gambia', 'Greenland', 'Grenada', 'Guam', 'Guyana', 'Kiribati', 'North Korea', 'New Caledonia', 'North Macedonia', 'Oman', 'Papua New Guinea', 'Qatar', 'Saint Kitts and Nevis', 'Saint Lucia', 'Saint Vincent and the Grenadines', 'Samoa', 'Sao Tome and Principe', 'Seychelles', 'Solomon Islands', 'Somalia', 'Sudan', 'Suriname', 'Syria', 'East Timor', 'Vanuatu', 'Virgin Islands']\n"
     ]
    }
   ],
   "source": [
    "# New Clean DataFrame\n",
    "happiness_df = noblanksmeat_df[[\"Country\", \"Region\", \"Meat Consumption\", \"Happiness Score\"]]\n",
    "\n",
    "#which countries were dropped?\n",
    "blank_happiness = happiness_df.loc[happiness_df[\"Happiness Score\"].isna()]\n",
    "blank_happiness_list = list(blank_happiness[\"Country\"])\n",
    "print(f'The following {len(blank_happiness_list)} countires were removed from analysis for lack of data on Happiness Score {blank_happiness_list}')\n",
    "\n",
    "#drop urbanization rate values that are nan\n",
    "clean_happy_df = happiness_df.dropna(subset=[\"Happiness Score\"])"
   ]
  },
  {
   "cell_type": "markdown",
   "id": "7a5fa9a5",
   "metadata": {},
   "source": [
    "Quartiles, Outliers and Boxplots"
   ]
  },
  {
   "cell_type": "code",
   "execution_count": 20,
   "id": "ac111d4c",
   "metadata": {},
   "outputs": [
    {
     "name": "stdout",
     "output_type": "stream",
     "text": [
      "The lower quartile of happiness score is: 4.7122750282500006\n",
      "The upper quartile of happiness score is: 6.263349891000001\n",
      "The interquartile range of happiness score is: 1.5510748627500002\n",
      "The the median of happiness score is: 5.5406999589999995 \n",
      "Values below 2.3856627341250003 could be outliers.\n",
      "Values above 8.589962185125001 could be outliers.\n"
     ]
    }
   ],
   "source": [
    "# Quartiles and qutliers\n",
    "quartiles = clean_happy_df[\"Happiness Score\"].quantile([.25,.5,.75])\n",
    "lowerq = quartiles[0.25]\n",
    "upperq = quartiles[0.75]\n",
    "iqr = upperq-lowerq\n",
    "\n",
    "print(f\"The lower quartile of happiness score is: {lowerq}\")\n",
    "print(f\"The upper quartile of happiness score is: {upperq}\")\n",
    "print(f\"The interquartile range of happiness score is: {iqr}\")\n",
    "print(f\"The the median of happiness score is: {quartiles[0.5]} \")\n",
    "\n",
    "lower_bound = lowerq - (1.5*iqr)\n",
    "upper_bound = upperq + (1.5*iqr)\n",
    "print(f\"Values below {lower_bound} could be outliers.\")\n",
    "print(f\"Values above {upper_bound} could be outliers.\")"
   ]
  },
  {
   "cell_type": "code",
   "execution_count": 21,
   "id": "30bca9d2",
   "metadata": {},
   "outputs": [
    {
     "data": {
      "text/plain": [
       "Text(0, 0.5, 'Happiness Score')"
      ]
     },
     "execution_count": 21,
     "metadata": {},
     "output_type": "execute_result"
    },
    {
     "data": {
      "image/png": "[encoded data removed]",
      "text/plain": [
       "<Figure size 432x288 with 1 Axes>"
      ]
     },
     "metadata": {
      "needs_background": "light"
     },
     "output_type": "display_data"
    }
   ],
   "source": [
    "# Boxplot spread of happiness score data\n",
    "plt.boxplot(clean_happy_df[\"Happiness Score\"])\n",
    "plt.title(\"Boxplot of Happiness Score\")\n",
    "plt.ylim(0,10)\n",
    "plt.ylabel(\"Happiness Score\")"
   ]
  },
  {
   "cell_type": "markdown",
   "id": "69c00408",
   "metadata": {},
   "source": [
    "Correlation and Regression"
   ]
  },
  {
   "cell_type": "code",
   "execution_count": 22,
   "id": "a2cbb39e",
   "metadata": {},
   "outputs": [
    {
     "name": "stdout",
     "output_type": "stream",
     "text": [
      "The correlation coefficient for world meat consumption and happiness score is 0.7442837934178907.\n"
     ]
    },
    {
     "data": {
      "text/plain": [
       "Text(0.5, 1.0, 'Meat Consumption vs. Happiness Score in the World with Regression Line')"
      ]
     },
     "execution_count": 22,
     "metadata": {},
     "output_type": "execute_result"
    },
    {
     "data": {
      "image/png": "[encoded data removed]",
      "text/plain": [
       "<Figure size 432x288 with 1 Axes>"
      ]
     },
     "metadata": {
      "needs_background": "light"
     },
     "output_type": "display_data"
    }
   ],
   "source": [
    "# Calculate the correlation coefficient and linear regression model \n",
    "x = clean_happy_df['Meat Consumption']\n",
    "y = clean_happy_df['Happiness Score']\n",
    "# Correlation coefficient\n",
    "correlation = st.pearsonr(x,y)\n",
    "print(f'The correlation coefficient for world meat consumption and happiness score is {correlation[0]}.')\n",
    "\n",
    "# Linear Regression\n",
    "(slope, intercept, rvalue, pvalue, stderr) = linregress(x,y)\n",
    "regress_values = x * slope + intercept\n",
    "line_eq = \"y = \" + str(round(slope,2)) + \"x + \" + str(round(intercept,2))\n",
    "\n",
    "plt.scatter(x,y)\n",
    "plt.plot(x,regress_values,\"r-\")\n",
    "plt.annotate(line_eq,(80,4),fontsize=15,color=\"red\")\n",
    "\n",
    "plt.xlabel(\"Meat Consumption\")\n",
    "plt.ylabel(\"Happiness Score\")\n",
    "plt.title('Meat Consumption vs. Happiness Score in the World with Regression Line')"
   ]
  },
  {
   "cell_type": "markdown",
   "id": "6c00acff",
   "metadata": {},
   "source": [
    "Bar Chart"
   ]
  },
  {
   "cell_type": "code",
   "execution_count": 23,
   "id": "d2c40863",
   "metadata": {},
   "outputs": [
    {
     "data": {
      "text/html": [
       "<div>\n",
       "<style scoped>\n",
       "    .dataframe tbody tr th:only-of-type {\n",
       "        vertical-align: middle;\n",
       "    }\n",
       "\n",
       "    .dataframe tbody tr th {\n",
       "        vertical-align: top;\n",
       "    }\n",
       "\n",
       "    .dataframe thead th {\n",
       "        text-align: right;\n",
       "    }\n",
       "</style>\n",
       "<table border=\"1\" class=\"dataframe\">\n",
       "  <thead>\n",
       "    <tr style=\"text-align: right;\">\n",
       "      <th></th>\n",
       "      <th>Average Meat consumption</th>\n",
       "      <th>Average Happiness Score</th>\n",
       "    </tr>\n",
       "    <tr>\n",
       "      <th>Region</th>\n",
       "      <th></th>\n",
       "      <th></th>\n",
       "    </tr>\n",
       "  </thead>\n",
       "  <tbody>\n",
       "    <tr>\n",
       "      <th>Central and Eastern Europe</th>\n",
       "      <td>64.108333</td>\n",
       "      <td>6.027742</td>\n",
       "    </tr>\n",
       "    <tr>\n",
       "      <th>Commonwealth of Independent States</th>\n",
       "      <td>32.425000</td>\n",
       "      <td>5.358342</td>\n",
       "    </tr>\n",
       "    <tr>\n",
       "      <th>East Asia</th>\n",
       "      <td>63.775000</td>\n",
       "      <td>5.580825</td>\n",
       "    </tr>\n",
       "    <tr>\n",
       "      <th>Latin America and Caribbean</th>\n",
       "      <td>48.733333</td>\n",
       "      <td>5.981786</td>\n",
       "    </tr>\n",
       "    <tr>\n",
       "      <th>Middle East and North Africa</th>\n",
       "      <td>39.418750</td>\n",
       "      <td>5.269306</td>\n",
       "    </tr>\n",
       "    <tr>\n",
       "      <th>North America and ANZ</th>\n",
       "      <td>120.800000</td>\n",
       "      <td>7.173525</td>\n",
       "    </tr>\n",
       "    <tr>\n",
       "      <th>South Asia</th>\n",
       "      <td>10.157143</td>\n",
       "      <td>4.475443</td>\n",
       "    </tr>\n",
       "    <tr>\n",
       "      <th>Southeast Asia</th>\n",
       "      <td>28.611111</td>\n",
       "      <td>5.383367</td>\n",
       "    </tr>\n",
       "    <tr>\n",
       "      <th>Sub-Saharan Africa</th>\n",
       "      <td>15.711429</td>\n",
       "      <td>4.354063</td>\n",
       "    </tr>\n",
       "    <tr>\n",
       "      <th>Western Europe</th>\n",
       "      <td>94.305000</td>\n",
       "      <td>6.967405</td>\n",
       "    </tr>\n",
       "  </tbody>\n",
       "</table>\n",
       "</div>"
      ],
      "text/plain": [
       "                                    Average Meat consumption  \\\n",
       "Region                                                         \n",
       "Central and Eastern Europe                         64.108333   \n",
       "Commonwealth of Independent States                 32.425000   \n",
       "East Asia                                          63.775000   \n",
       "Latin America and Caribbean                        48.733333   \n",
       "Middle East and North Africa                       39.418750   \n",
       "North America and ANZ                             120.800000   \n",
       "South Asia                                         10.157143   \n",
       "Southeast Asia                                     28.611111   \n",
       "Sub-Saharan Africa                                 15.711429   \n",
       "Western Europe                                     94.305000   \n",
       "\n",
       "                                    Average Happiness Score  \n",
       "Region                                                       \n",
       "Central and Eastern Europe                         6.027742  \n",
       "Commonwealth of Independent States                 5.358342  \n",
       "East Asia                                          5.580825  \n",
       "Latin America and Caribbean                        5.981786  \n",
       "Middle East and North Africa                       5.269306  \n",
       "North America and ANZ                              7.173525  \n",
       "South Asia                                         4.475443  \n",
       "Southeast Asia                                     5.383367  \n",
       "Sub-Saharan Africa                                 4.354063  \n",
       "Western Europe                                     6.967405  "
      ]
     },
     "execution_count": 23,
     "metadata": {},
     "output_type": "execute_result"
    }
   ],
   "source": [
    "# Get New DataFrame Groupby Regional Indicator\n",
    "meat = clean_happy_df.groupby(['Region']).mean()[\"Meat Consumption\"]\n",
    "happiness = clean_happy_df.groupby(['Region']).mean()[\"Happiness Score\"]\n",
    "region_df = meat.to_frame().join(happiness).rename(columns={'Meat Consumption':'Average Meat consumption',\n",
    "                                                            'Happiness Score':'Average Happiness Score'})\n",
    "region_df"
   ]
  },
  {
   "cell_type": "code",
   "execution_count": 24,
   "id": "b5573b1d",
   "metadata": {},
   "outputs": [
    {
     "data": {
      "text/plain": [
       "Text(0.5, 1.0, 'Average Happiness Score for Different Regions')"
      ]
     },
     "execution_count": 24,
     "metadata": {},
     "output_type": "execute_result"
    },
    {
     "data": {
      "image/png": "[encoded data removed]",
      "text/plain": [
       "<Figure size 432x288 with 1 Axes>"
      ]
     },
     "metadata": {
      "needs_background": "light"
     },
     "output_type": "display_data"
    }
   ],
   "source": [
    "# Generate a bar plot showing the average happiness score for different regions using pyplot.\n",
    "x_axis = region_df.sort_values(by=\"Average Meat consumption\").index.values\n",
    "plt.bar(x_axis, region_df['Average Happiness Score'])                \n",
    "plt.xticks(rotation=90)\n",
    "\n",
    "# Set labels for axes\n",
    "plt.xlabel(\"Regions\")\n",
    "plt.ylabel(\"Average Happiness Score\")\n",
    "plt.title('Average Happiness Score for Different Regions')"
   ]
  },
  {
   "cell_type": "code",
   "execution_count": 25,
   "id": "6837c534",
   "metadata": {
    "scrolled": true
   },
   "outputs": [
    {
     "name": "stdout",
     "output_type": "stream",
     "text": [
      "The following 4 countires were removed from analysis for lack of data on Urbanization rate ['Kuwait', 'Samoa', 'Sao Tome and Principe', 'Virgin Islands']\n"
     ]
    }
   ],
   "source": [
    "#meat consumption vs urbanization rate\n",
    "urban_data_df = noblanksmeat_df[[\"Country\", \"Region\", \"Meat Consumption\", \"Urbanization Rate\"]]\n",
    "\n",
    "#which countries were dropped?\n",
    "blank_urban = urban_data_df.loc[urban_data_df[\"Urbanization Rate\"].isna()]\n",
    "blank_urban_list = list(blank_urban[\"Country\"])\n",
    "print(f'The following {len(blank_urban_list)} countires were removed from analysis for lack of data on Urbanization rate {blank_urban_list}')\n",
    "\n",
    "#drop urbanization rate values that are nan\n",
    "urban_data_df_nona = urban_data_df.dropna(subset=[\"Urbanization Rate\"])"
   ]
  },
  {
   "cell_type": "code",
   "execution_count": 26,
   "id": "139bd71c",
   "metadata": {},
   "outputs": [],
   "source": [
    "#set meat consump. and urbanization columns to variables for plotting\n",
    "meat_only = urban_data_df_nona[\"Meat Consumption\"]\n",
    "urban_only = urban_data_df_nona[\"Urbanization Rate\"]"
   ]
  },
  {
   "cell_type": "code",
   "execution_count": 27,
   "id": "308b2d36",
   "metadata": {
    "scrolled": true
   },
   "outputs": [
    {
     "data": {
      "text/plain": [
       "Text(0, 0.5, '% change in urbanization')"
      ]
     },
     "execution_count": 27,
     "metadata": {},
     "output_type": "execute_result"
    },
    {
     "data": {
      "image/png": "[encoded data removed]",
      "text/plain": [
       "<Figure size 432x288 with 1 Axes>"
      ]
     },
     "metadata": {
      "needs_background": "light"
     },
     "output_type": "display_data"
    }
   ],
   "source": [
    "#show boxplot spread of urbanization rate data\n",
    "plt.boxplot(urban_only)\n",
    "plt.title(\"Urbanization Rate\")\n",
    "plt.ylim(0,105)\n",
    "plt.ylabel(\"% change in urbanization\")"
   ]
  },
  {
   "cell_type": "code",
   "execution_count": 28,
   "id": "76aa65e7",
   "metadata": {},
   "outputs": [
    {
     "name": "stdout",
     "output_type": "stream",
     "text": [
      "The lower quartile of urbanization rate is: 42.425\n",
      "The upper quartile of urbanization rate is: 78.25\n",
      "The interquartile range of urbanization rate is: 35.825\n",
      "The the median of urbanization rate is: 59.25 \n",
      "Values below -11.312500000000007 could be outliers.\n",
      "Values above 131.9875 could be outliers.\n"
     ]
    }
   ],
   "source": [
    "#quartile calcuations for urbanization rate\n",
    "quartiles = urban_only.quantile([.25,.5,.75])\n",
    "lowerq = quartiles[0.25]\n",
    "upperq = quartiles[0.75]\n",
    "iqr = upperq-lowerq\n",
    "\n",
    "print(f\"The lower quartile of urbanization rate is: {lowerq}\")\n",
    "print(f\"The upper quartile of urbanization rate is: {upperq}\")\n",
    "print(f\"The interquartile range of urbanization rate is: {iqr}\")\n",
    "print(f\"The the median of urbanization rate is: {quartiles[0.5]} \")\n",
    "\n",
    "lower_bound = lowerq - (1.5*iqr)\n",
    "upper_bound = upperq + (1.5*iqr)\n",
    "print(f\"Values below {lower_bound} could be outliers.\")\n",
    "print(f\"Values above {upper_bound} could be outliers.\")"
   ]
  },
  {
   "cell_type": "code",
   "execution_count": 29,
   "id": "1e05280b",
   "metadata": {},
   "outputs": [
    {
     "name": "stdout",
     "output_type": "stream",
     "text": [
      "The r value is: 0.53487\n"
     ]
    },
    {
     "data": {
      "image/png": "[encoded data removed]",
      "text/plain": [
       "<Figure size 432x288 with 1 Axes>"
      ]
     },
     "metadata": {
      "needs_background": "light"
     },
     "output_type": "display_data"
    }
   ],
   "source": [
    "#scatter plot for meat vs urbanzation\n",
    "plt.scatter(urban_only, meat_only)\n",
    "plt.grid()\n",
    "plt.xlabel(\"Urbanization Rate\")\n",
    "plt.ylabel(\"Meat Consumption\")\n",
    "plt.title(\"Urbanization Rate vs Meat Consumption\")\n",
    "\n",
    "(slope, intercept, rvalue, pvalue, stderr) = linregress(urban_only, meat_only)\n",
    "regress_values = urban_only * slope + intercept\n",
    "line_eq = \"y = \" + str(round(slope,2)) + \"x + \" + str(round(intercept,2))\n",
    "\n",
    "plt.plot(urban_only,regress_values,\"r-\")\n",
    "plt.annotate(line_eq,(20,125),fontsize=15,color=\"red\")\n",
    "print(f\"The r value is: {round(rvalue, 5)}\")\n",
    "\n",
    "plt.savefig(\"Output/Urbanization_Meat_scatter.png\")"
   ]
  },
  {
   "cell_type": "code",
   "execution_count": 30,
   "id": "412c0b2d",
   "metadata": {},
   "outputs": [
    {
     "name": "stdout",
     "output_type": "stream",
     "text": [
      "The following 39 countires were removed from analysis for lack of data for Region: ['American Samoa', 'Angola', 'Antigua and Barbuda', 'The Bahamas', 'Barbados', 'Belize', 'Bhutan', 'Cape Verde', 'Democratic Republic of the Congo', 'Republic of the Congo', 'Cuba', 'Djibouti', 'Dominica', 'Eritrea', 'Fiji', 'French Polynesia', 'The Gambia', 'Greenland', 'Grenada', 'Guam', 'Guyana', 'Kiribati', 'North Korea', 'New Caledonia', 'North Macedonia', 'Oman', 'Papua New Guinea', 'Qatar', 'Saint Kitts and Nevis', 'Saint Lucia', 'Saint Vincent and the Grenadines', 'Seychelles', 'Solomon Islands', 'Somalia', 'Sudan', 'Suriname', 'Syria', 'East Timor', 'Vanuatu']\n"
     ]
    }
   ],
   "source": [
    "#create list of countries without region data\n",
    "blank_region = urban_data_df_nona.loc[urban_data_df_nona[\"Region\"].isna()]\n",
    "blank_region_list = list(blank_region[\"Country\"])\n",
    "\n",
    "#print which countries are excluded because there isn't a region listed\n",
    "print(f'The following {len(blank_region_list)} countires were removed from analysis for lack of data for Region: {blank_region_list}')"
   ]
  },
  {
   "cell_type": "code",
   "execution_count": 31,
   "id": "f50dc692",
   "metadata": {},
   "outputs": [],
   "source": [
    "#new df with null region values removed\n",
    "region_noblanks = urban_data_df_nona.loc[~urban_data_df_nona[\"Country\"].isin(blank_region_list)]\n",
    "\n",
    "#new df grouped by region, means per region and sorted on meat consumption rate\n",
    "regions_group = region_noblanks.groupby(\"Region\")\n",
    "regions_mean_df = regions_group.mean().sort_values(by=\"Meat Consumption\")"
   ]
  },
  {
   "cell_type": "code",
   "execution_count": 32,
   "id": "b4590c62",
   "metadata": {},
   "outputs": [],
   "source": [
    "#save df columns as variables for plotting\n",
    "region_meat = regions_mean_df[\"Meat Consumption\"]\n",
    "region_urban = regions_mean_df[\"Urbanization Rate\"]\n",
    "region_list = regions_mean_df.index"
   ]
  },
  {
   "cell_type": "code",
   "execution_count": 33,
   "id": "18dd08d2",
   "metadata": {},
   "outputs": [
    {
     "data": {
      "image/png": "[encoded data removed]",
      "text/plain": [
       "<Figure size 432x288 with 1 Axes>"
      ]
     },
     "metadata": {
      "needs_background": "light"
     },
     "output_type": "display_data"
    }
   ],
   "source": [
    "#plot regions vs meat\n",
    "plt.bar(region_list, region_meat)\n",
    "plt.xticks(rotation=90)\n",
    "plt.xlabel(\"Region\")\n",
    "plt.ylabel(\"Meat Consumption rate\")\n",
    "plt.title(\"Meat Consumption by Region\")\n",
    "\n",
    "plt.savefig(\"Output/meat_byregion.png\")"
   ]
  },
  {
   "cell_type": "code",
   "execution_count": 34,
   "id": "ab154ee4",
   "metadata": {},
   "outputs": [
    {
     "data": {
      "image/png": "[encoded data removed]",
      "text/plain": [
       "<Figure size 432x288 with 1 Axes>"
      ]
     },
     "metadata": {
      "needs_background": "light"
     },
     "output_type": "display_data"
    }
   ],
   "source": [
    "#plot regions vs urbanization\n",
    "plt.bar(region_list, region_urban)\n",
    "plt.xticks(rotation=90)\n",
    "plt.xlabel(\"Region\")\n",
    "plt.ylabel(\"Urbanization Rate\")\n",
    "plt.title(\"Urbanization Rate by Region\")\n",
    "\n",
    "plt.savefig(\"Output/urban_byregion.png\")"
   ]
  },
  {
   "cell_type": "code",
   "execution_count": 35,
   "id": "f7283f92",
   "metadata": {},
   "outputs": [],
   "source": [
    "#do a subplot figure--one plot for each metric, sorted by meat consumption, to compare trends?"
   ]
  },
  {
   "cell_type": "code",
   "execution_count": null,
   "id": "735bd86c",
   "metadata": {},
   "outputs": [],
   "source": []
  },
  {
   "cell_type": "markdown",
   "id": "6765a41d",
   "metadata": {},
   "source": [
    "Meat Consumption VS Fertility \n",
    "\n",
    "\n"
   ]
  },
  {
   "cell_type": "code",
   "execution_count": 36,
   "id": "963f4772",
   "metadata": {},
   "outputs": [],
   "source": [
    "MsvF_df=noblanksmeat_df [['Region','Country','Meat Consumption','Fertility']]\n",
    "cleanMvsF_df=MsvF_df.dropna()"
   ]
  },
  {
   "cell_type": "code",
   "execution_count": null,
   "id": "2e0dce9b",
   "metadata": {},
   "outputs": [],
   "source": []
  },
  {
   "cell_type": "code",
   "execution_count": 37,
   "id": "b6c45cff",
   "metadata": {},
   "outputs": [
    {
     "data": {
      "text/html": [
       "<div>\n",
       "<style scoped>\n",
       "    .dataframe tbody tr th:only-of-type {\n",
       "        vertical-align: middle;\n",
       "    }\n",
       "\n",
       "    .dataframe tbody tr th {\n",
       "        vertical-align: top;\n",
       "    }\n",
       "\n",
       "    .dataframe thead th {\n",
       "        text-align: right;\n",
       "    }\n",
       "</style>\n",
       "<table border=\"1\" class=\"dataframe\">\n",
       "  <thead>\n",
       "    <tr style=\"text-align: right;\">\n",
       "      <th></th>\n",
       "      <th>Region</th>\n",
       "      <th>Country</th>\n",
       "      <th>Meat Consumption</th>\n",
       "      <th>Fertility</th>\n",
       "    </tr>\n",
       "  </thead>\n",
       "  <tbody>\n",
       "    <tr>\n",
       "      <th>16</th>\n",
       "      <td>South Asia</td>\n",
       "      <td>Bangladesh</td>\n",
       "      <td>3.1</td>\n",
       "      <td>2.0</td>\n",
       "    </tr>\n",
       "    <tr>\n",
       "      <th>31</th>\n",
       "      <td>Sub-Saharan Africa</td>\n",
       "      <td>Burundi</td>\n",
       "      <td>3.5</td>\n",
       "      <td>5.4</td>\n",
       "    </tr>\n",
       "    <tr>\n",
       "      <th>164</th>\n",
       "      <td>Sub-Saharan Africa</td>\n",
       "      <td>Rwanda</td>\n",
       "      <td>4.4</td>\n",
       "      <td>4.0</td>\n",
       "    </tr>\n",
       "    <tr>\n",
       "      <th>120</th>\n",
       "      <td>Sub-Saharan Africa</td>\n",
       "      <td>Malawi</td>\n",
       "      <td>5.1</td>\n",
       "      <td>4.2</td>\n",
       "    </tr>\n",
       "    <tr>\n",
       "      <th>89</th>\n",
       "      <td>South Asia</td>\n",
       "      <td>India</td>\n",
       "      <td>5.2</td>\n",
       "      <td>2.2</td>\n",
       "    </tr>\n",
       "    <tr>\n",
       "      <th>...</th>\n",
       "      <td>...</td>\n",
       "      <td>...</td>\n",
       "      <td>...</td>\n",
       "      <td>...</td>\n",
       "    </tr>\n",
       "    <tr>\n",
       "      <th>212</th>\n",
       "      <td>North America and ANZ</td>\n",
       "      <td>United States</td>\n",
       "      <td>124.8</td>\n",
       "      <td>1.7</td>\n",
       "    </tr>\n",
       "    <tr>\n",
       "      <th>50</th>\n",
       "      <td>Western Europe</td>\n",
       "      <td>Cyprus</td>\n",
       "      <td>131.3</td>\n",
       "      <td>1.3</td>\n",
       "    </tr>\n",
       "    <tr>\n",
       "      <th>117</th>\n",
       "      <td>Western Europe</td>\n",
       "      <td>Luxembourg</td>\n",
       "      <td>141.7</td>\n",
       "      <td>1.4</td>\n",
       "    </tr>\n",
       "    <tr>\n",
       "      <th>143</th>\n",
       "      <td>North America and ANZ</td>\n",
       "      <td>New Zealand</td>\n",
       "      <td>142.1</td>\n",
       "      <td>1.7</td>\n",
       "    </tr>\n",
       "    <tr>\n",
       "      <th>52</th>\n",
       "      <td>Western Europe</td>\n",
       "      <td>Denmark</td>\n",
       "      <td>145.9</td>\n",
       "      <td>1.7</td>\n",
       "    </tr>\n",
       "  </tbody>\n",
       "</table>\n",
       "<p>139 rows × 4 columns</p>\n",
       "</div>"
      ],
      "text/plain": [
       "                    Region        Country  Meat Consumption  Fertility\n",
       "16              South Asia     Bangladesh               3.1        2.0\n",
       "31      Sub-Saharan Africa        Burundi               3.5        5.4\n",
       "164     Sub-Saharan Africa         Rwanda               4.4        4.0\n",
       "120     Sub-Saharan Africa         Malawi               5.1        4.2\n",
       "89              South Asia          India               5.2        2.2\n",
       "..                     ...            ...               ...        ...\n",
       "212  North America and ANZ  United States             124.8        1.7\n",
       "50          Western Europe         Cyprus             131.3        1.3\n",
       "117         Western Europe     Luxembourg             141.7        1.4\n",
       "143  North America and ANZ    New Zealand             142.1        1.7\n",
       "52          Western Europe        Denmark             145.9        1.7\n",
       "\n",
       "[139 rows x 4 columns]"
      ]
     },
     "execution_count": 37,
     "metadata": {},
     "output_type": "execute_result"
    }
   ],
   "source": [
    "cleanMvsF_df.sort_values(by=\"Meat Consumption\")"
   ]
  },
  {
   "cell_type": "code",
   "execution_count": 38,
   "id": "5160e5f8",
   "metadata": {},
   "outputs": [
    {
     "data": {
      "image/png": "[encoded data removed]",
      "text/plain": [
       "<Figure size 1080x432 with 1 Axes>"
      ]
     },
     "metadata": {
      "needs_background": "light"
     },
     "output_type": "display_data"
    }
   ],
   "source": [
    "#scatter plot and regrestion\n",
    "x_valuesFM=cleanMvsF_df['Meat Consumption']\n",
    "y_valuesFM=cleanMvsF_df['Fertility']\n",
    "(slope, intercept, rvalue, pvalue, stderr) = linregress(x_valuesFM, y_valuesFM)\n",
    "line_eq=\"y = \" + str(round(slope,2)) + \"x + \" + str(round(intercept,2))\n",
    "\n",
    "regress_valuesFM = x_valuesFM * slope + intercept\n",
    "plt.figure(figsize=[15,6])\n",
    "plt.scatter(x_valuesFM,y_valuesFM)  \n",
    "plt.annotate(line_eq,(17.3,4.5),fontsize=15,color=\"red\")\n",
    "plt.plot(x_valuesFM,regress_valuesFM ,c='red')\n",
    "plt.title('Meat Consumption vs Fertility Regression', fontsize=15)\n",
    "plt.xlabel('Meat Consumption', fontsize=15)\n",
    "plt.ylabel('Fertility', fontsize=15)\n",
    "plt.grid()\n",
    "plt.savefig('Meat_Fertility.png')\n",
    "plt.show()"
   ]
  },
  {
   "cell_type": "code",
   "execution_count": 58,
   "id": "75551379",
   "metadata": {},
   "outputs": [
    {
     "name": "stdout",
     "output_type": "stream",
     "text": [
      "The lower quartile of Fertility Rate: 1.7\n",
      "The upper quartile of Fertility Rate: 3.45\n",
      "The interquartile range of life expectancy: 1.7500000000000002\n",
      "The median Fertility Rate is: 2.2\n",
      "The potential outliers for Fertility Rate are below -0.9250000000000005 and above 6.075000000000001.\n"
     ]
    }
   ],
   "source": [
    "fertility_data = cleanMvsF_df[\"Fertility\"]\n",
    "quartiles = fertility_data.quantile([.25,.5,.75])\n",
    "lower_quartile = quartiles[0.25]\n",
    "upper_quartile = quartiles[0.75]\n",
    "iqr = upper_quartile-lower_quartile\n",
    "print(f\"The lower quartile of Fertility Rate: {lower_quartile}\")\n",
    "print(f\"The upper quartile of Fertility Rate: {upper_quartile}\")\n",
    "print(f\"The interquartile range of life expectancy: {iqr}\")\n",
    "print(f\"The median Fertility Rate is: {quartiles[0.5]}\")\n",
    "\n",
    "# Determine outliers using upper and lower bounds\n",
    "lower_bound = lower_quartile - (1.5*iqr)\n",
    "upper_bound = upper_quartile + (1.5*iqr)\n",
    "outliers = fertility_data.loc[(fertility_data < lower_bound) | (fertility_data > upper_bound)]\n",
    "\n",
    "print(f\"The potential outliers for Fertility Rate are below {lower_bound} and above {upper_bound}.\")"
   ]
  },
  {
   "cell_type": "code",
   "execution_count": 50,
   "id": "ecc032c5",
   "metadata": {},
   "outputs": [],
   "source": [
    "#group by region \n",
    "grpbyreg=cleanMvsF_df.groupby(\"Region\").mean().sort_values(by=\"Meat Consumption\")\n",
    "grpbyreg\n",
    "grpfer= grpbyreg['Fertility']\n",
    "grpmeat= grpbyreg['Meat Consumption']"
   ]
  },
  {
   "cell_type": "code",
   "execution_count": 40,
   "id": "6d40fc8c",
   "metadata": {},
   "outputs": [],
   "source": [
    "#creating variables for boxplot \n",
    "southasia_df=cleanMvsF_df.loc[cleanMvsF_df['Region']=='South Asia']\n",
    "SAfertility=southasia_df['Fertility']\n",
    "\n",
    "CEEuro_df=cleanMvsF_df.loc[cleanMvsF_df['Region']=='Central and Eastern Europe']\n",
    "CEEurofertility=CEEuro_df['Fertility']\n",
    "\n",
    "Ind_States_df=cleanMvsF_df.loc[cleanMvsF_df['Region']=='Commonwealth of Independent States']\n",
    "Ind_Statesfertility=Ind_States_df['Fertility']\n",
    "\n",
    "EAsia_df=cleanMvsF_df.loc[cleanMvsF_df['Region']=='East Asia']\n",
    "EAsiafertility=EAsia_df['Fertility'] \n",
    "\n",
    "LatA_C_df=cleanMvsF_df.loc[cleanMvsF_df['Region']=='Latin America and Carribean']\n",
    "LatA_Cfertility=LatA_C_df['Fertility'] \n",
    "\n",
    "MidE_NorA_df=cleanMvsF_df.loc[cleanMvsF_df['Region']=='Middle East and North Africa']\n",
    "MidE_NorAfertility=MidE_NorA_df['Fertility'] \n",
    "\n",
    "NorAme_df=cleanMvsF_df.loc[cleanMvsF_df['Region']=='North America and ANZ']\n",
    "NorAmefertility=NorAme_df['Fertility'] \n",
    "\n",
    "SouthEastAsia_df=cleanMvsF_df.loc[cleanMvsF_df['Region']=='Southeast Asia']\n",
    "SouthEastAsiafertility=SouthEastAsia_df['Fertility'] \n",
    "\n",
    "SSAfrica_df=cleanMvsF_df.loc[cleanMvsF_df['Region']=='Sub-Saharan Africa']\n",
    "SSAfricafertility=SSAfrica_df['Fertility']\n",
    "\n",
    "WEuro_df=cleanMvsF_df.loc[cleanMvsF_df['Region']=='Western Europe']\n",
    "WEurofertility=WEuro_df['Fertility']\n",
    "\n",
    "Regions = ['South Asia','Central and Eastern Europe','Commonwealth of Independent States',\n",
    "           'East Asia', 'Latin America/ Carribean',\n",
    "           'Middle East and North Africa','North America ANZ',\n",
    "           'Southeast Asia','Sub-Saharan Africa','Western Europe']"
   ]
  },
  {
   "cell_type": "code",
   "execution_count": 41,
   "id": "d87a0a2f",
   "metadata": {},
   "outputs": [
    {
     "data": {
      "image/png": "[encoded data removed]",
      "text/plain": [
       "<Figure size 1080x720 with 1 Axes>"
      ]
     },
     "metadata": {
      "needs_background": "light"
     },
     "output_type": "display_data"
    }
   ],
   "source": [
    "#boxplot of fertiliy per region\n",
    "plt.figure(figsize=(15,10))\n",
    "plt.boxplot([SAfertility,CEEurofertility,Ind_Statesfertility,EAsiafertility,LatA_Cfertility,\n",
    "             MidE_NorAfertility,NorAmefertility,SouthEastAsiafertility,\n",
    "             SSAfricafertility,WEurofertility], labels=Regions)\n",
    "plt.title('Fertility per Region')\n",
    "plt.xticks([1,2,3,4,5,6,7,8,9,10],Regions,fontsize=15, rotation= 90)\n",
    "plt.ylabel('Fertility rate(%)', fontsize=15)\n",
    "\n",
    "plt.show()"
   ]
  },
  {
   "cell_type": "code",
   "execution_count": 53,
   "id": "496238f6",
   "metadata": {},
   "outputs": [],
   "source": [
    "avgMC_region=grpbyreg['Meat Consumption']\n",
    "avgF_region=grpbyreg['Fertility']\n",
    "regionsgrp=grpbyreg.index"
   ]
  },
  {
   "cell_type": "code",
   "execution_count": 54,
   "id": "9508fb4b",
   "metadata": {},
   "outputs": [
    {
     "data": {
      "image/png": "[encoded data removed]",
      "text/plain": [
       "<Figure size 1440x1080 with 1 Axes>"
      ]
     },
     "metadata": {
      "needs_background": "light"
     },
     "output_type": "display_data"
    }
   ],
   "source": [
    "plt.figure(figsize=(20,15))\n",
    "plt.bar(regionsgrp,avgMC_region)\n",
    "plt.xticks(fontsize=20, rotation=90)\n",
    "plt.title('Avg Meat Consumption per Region', fontsize=20)\n",
    "plt.xlabel('Region', fontsize=20)\n",
    "plt.ylabel('Avg Meat Consumption Kg', fontsize=20)\n",
    "plt.savefig('Output/Avg Meat Consumption per Region.png')"
   ]
  },
  {
   "cell_type": "code",
   "execution_count": 55,
   "id": "59b8d81d",
   "metadata": {},
   "outputs": [
    {
     "data": {
      "image/png": "[encoded data removed]",
      "text/plain": [
       "<Figure size 1440x1080 with 1 Axes>"
      ]
     },
     "metadata": {
      "needs_background": "light"
     },
     "output_type": "display_data"
    }
   ],
   "source": [
    "plt.figure(figsize=(20,15))\n",
    "plt.bar(regionsgrp,avgF_region)\n",
    "plt.xticks(fontsize=20, rotation=90)\n",
    "plt.title('Avg Fertility rate (%) per Region', fontsize=25)\n",
    "plt.xlabel('Region', fontsize=25)\n",
    "plt.ylabel('Avg Fertility rate (%)',fontsize=25)\n",
    "plt.savefig('Output/Avg Fertility rate (%) per Region.png')"
   ]
  },
  {
   "cell_type": "code",
   "execution_count": null,
   "id": "9a9cda4d",
   "metadata": {},
   "outputs": [],
   "source": [
    "#Meat consumption vs Life Expectancy\n",
    "lifeexpect_df = noblanksmeat_df.loc[:, [\"Country\", \"Life Expectancy\", \"Meat Consumption\",'Region']]\n",
    "lifeexpect_df.head()\n",
    "lifeexpect_blank = lifeexpect_df.loc[lifeexpect_df[\"Life Expectancy\"].isna()]\n",
    "blank_lifeexpect = list(lifeexpect_blank[\"Country\"])\n",
    "print(f'The following {len(blank_lifeexpect)} countires were removed from analysis for lack of data on Life Expect {blank_lifeexpect}')\n",
    "\n",
    "avg_lifex =  pd.DataFrame(lifeexpect_df.groupby([\"Country\", \"Life Expectancy\"])[\"Meat Consumption\"].mean()).reset_index()\n",
    "\n",
    "\n",
    "\n",
    "avg_lifex.plot(kind=\"scatter\", x=\"Meat Consumption\", y=\"Life Expectancy\", grid=True, color='red', figsize=(4,4),\n",
    "              title=\"Meat Consumption vs. Life Expectancy\")\n",
    "plt.show()"
   ]
  },
  {
   "cell_type": "code",
   "execution_count": null,
   "id": "7903e760",
   "metadata": {},
   "outputs": [],
   "source": [
    "x_valuesLX = avg_lifex['Meat Consumption']\n",
    "y_valuesLX = avg_lifex['Life Expectancy']\n",
    "(slope, intercept, rvalue, pvalue, stderr) = linregress(x_valuesLX, y_valuesLX)\n",
    "regress_values1 = x_valuesLX * slope + intercept\n",
    "line_eq1 = \"y = \" + str(round(slope,2)) + \"x + \" + str(round(intercept,2))\n",
    "plt.scatter(x_valuesLX, y_valuesLX)\n",
    "plt.plot(x_valuesLX,regress_values1,\"r-\")\n",
    "plt.annotate(line_eq1,(55,60),color=\"red\")\n",
    "plt.xlabel('Meat Consumption')\n",
    "plt.ylabel('Life Expectancy')\n",
    "plt.show()"
   ]
  },
  {
   "cell_type": "code",
   "execution_count": null,
   "id": "e494a81e",
   "metadata": {},
   "outputs": [],
   "source": [
    "# Calculate the IQR and quantitatively determine if there are any potential outliers. \n",
    "lifex_data = avg_lifex[\"Life Expectancy\"]\n",
    "quartiles = lifex_data.quantile([.25,.5,.75])\n",
    "lower_quartile = quartiles[0.25]\n",
    "upper_quartile = quartiles[0.75]\n",
    "iqr = upper_quartile-lower_quartile\n",
    "print(f\"The lower quartile of life expectancy: {lower_quartile}\")\n",
    "print(f\"The upper quartile of life expectancy: {upper_quartile}\")\n",
    "print(f\"The interquartile range of life expectancy: {iqr}\")\n",
    "print(f\"The median life expectancy is: {quartiles[0.5]}\")\n",
    "\n",
    "# Determine outliers using upper and lower bounds\n",
    "lower_bound = lower_quartile - (1.5*iqr)\n",
    "upper_bound = upper_quartile + (1.5*iqr)\n",
    "outliers = lifex_data.loc[(lifex_data < lower_bound) | (lifex_data > upper_bound)]\n",
    "\n",
    "print(f\"The potential outliers for life expectancy are below {lower_bound} and above {upper_bound} years of age.\")"
   ]
  },
  {
   "cell_type": "code",
   "execution_count": null,
   "id": "b29d6ed6",
   "metadata": {},
   "outputs": [],
   "source": [
    "plt.subplots(figsize=(15, 10))\n",
    "plt.title('Life Expectancy in 2020',fontsize =15)\n",
    "plt.ylabel('Life Expectancy',fontsize = 10)\n",
    "plt.xlabel('2020',fontsize = 10)\n",
    "plt.xticks(rotation='vertical',fontsize = 15)\n",
    "plt.yticks(fontsize = 10)\n",
    "plt.boxplot(lifex_data, widths = 0.5, patch_artist=True,vert=True)\n",
    "\n",
    "plt.ylim(0, 100)\n",
    "\n",
    "plt.show()"
   ]
  },
  {
   "cell_type": "code",
   "execution_count": null,
   "id": "5de02e09",
   "metadata": {},
   "outputs": [],
   "source": [
    "lifex_data"
   ]
  },
  {
   "cell_type": "code",
   "execution_count": null,
   "id": "9372a37e",
   "metadata": {},
   "outputs": [],
   "source": [
    "region_lifeexpect_df =noblanksmeat_df.loc[:, [\"Region\", \"Country\", \"Life Expectancy\", \"Meat Consumption\"]]\n",
    "region_lifeexpect_df.head()"
   ]
  },
  {
   "cell_type": "code",
   "execution_count": null,
   "id": "270a1f58",
   "metadata": {},
   "outputs": [],
   "source": [
    "CEEuro_df = region_lifeexpect_df.loc[region_lifeexpect_df[\"Region\"] == \"Central and Eastern Europe\",:]\n",
    "Ind_States_df = region_lifeexpect_df.loc[region_lifeexpect_df[\"Region\"] == \"Commonwealth of Independent States\",:]\n",
    "EAsia_df = region_lifeexpect_df.loc[region_lifeexpect_df[\"Region\"] == \"East Asia\",:]\n",
    "LatA_C_df = region_lifeexpect_df.loc[region_lifeexpect_df[\"Region\"] == \"Latin America and Carribean\",:]\n",
    "MidE_NorA_df = region_lifeexpect_df.loc[region_lifeexpect_df[\"Region\"] == \"Middle East and North Africa\",:]\n",
    "NorAme_df = region_lifeexpect_df.loc[region_lifeexpect_df[\"Region\"] == \"North America and ANZ\",:]\n",
    "SouthAsia_df = region_lifeexpect_df.loc[region_lifeexpect_df[\"Region\"] == \"South Asia\",:]\n",
    "SouthEastAsia_df = region_lifeexpect_df.loc[region_lifeexpect_df[\"Region\"] == \"Southeast Asia\",:]\n",
    "SSAfrica_df = region_lifeexpect_df.loc[region_lifeexpect_df[\"Region\"] == \"Sub-Saharan Africa\",:]\n",
    "WEuro_df = region_lifeexpect_df.loc[region_lifeexpect_df[\"Region\"] == \"Western Europe\",:]\n",
    "\n",
    "CEEuro = CEEuro_df[\"Meat Consumption\"]\n",
    "\n",
    "Ind_States = Ind_States_df[\"Meat Consumption\"]\n",
    "\n",
    "EAsia = EAsia_df[\"Meat Consumption\"]\n",
    "\n",
    "LatA_C = LatA_C_df[\"Meat Consumption\"]\n",
    "\n",
    "MidE_NorA = MidE_NorA_df[\"Meat Consumption\"]\n",
    "\n",
    "NorAme = NorAme_df[\"Meat Consumption\"]\n",
    "\n",
    "SouthAsia = SouthAsia_df[\"Meat Consumption\"]\n",
    "\n",
    "SouthEastAsia = SouthEastAsia_df[\"Meat Consumption\"]\n",
    "\n",
    "SSAfrica = SSAfrica_df[\"Meat Consumption\"]\n",
    "\n",
    "WEuro = WEuro_df[\"Meat Consumption\"]\n",
    "\n",
    "\n",
    "\n",
    "Regions = [\"Central and Eastern Europe\",\"Commonwealth of Independent States\",\"East Asia\",\"Latin America and Carribean\",\"Middle East and North Africa\",\"North America and ANZ\",\"South Asia\",\"Southeast Asia\",\"Sub-Saharan Africa\",\"Western Europe\"]"
   ]
  },
  {
   "cell_type": "code",
   "execution_count": null,
   "id": "e698f484",
   "metadata": {},
   "outputs": [],
   "source": [
    "flierprops = dict(marker='o', markerfacecolor='r', markersize=16,\n",
    "                  linestyle='none', markeredgecolor='g')\n",
    "data = [CEEuro,Ind_States,EAsia,LatA_C,MidE_NorA,NorAme,SouthAsia,SouthEastAsia,SSAfrica,WEuro]\n",
    "plt.subplots(figsize=(30, 20))\n",
    "plt.title('Meat Consumption Among Regions',fontsize =25)\n",
    "plt.ylabel('Meat Consumption (Kg per Capita)',fontsize = 40)\n",
    "plt.xlabel('Region',fontsize = 40)\n",
    "plt.xticks(rotation='vertical',fontsize = 25)\n",
    "plt.yticks(fontsize = 25)\n",
    "plt.boxplot(data, labels=Regions, widths = 0.5, patch_artist=True,vert=True,flierprops=flierprops)\n",
    "\n",
    "plt.ylim(0, 150)\n",
    "\n",
    "plt.show()\n"
   ]
  },
  {
   "cell_type": "code",
   "execution_count": null,
   "id": "e3b02c76",
   "metadata": {},
   "outputs": [],
   "source": [
    "reg_lifex_mean = region_lifeexpect_df.groupby('Region')['Life Expectancy'].mean()\n",
    "reg_lifex_mean\n",
    "reg_mc_mean = region_lifeexpect_df.groupby('Region')['Meat Consumption'].mean()\n",
    "reg_mc_mean\n",
    "lifex_mc_summary = pd.DataFrame({'Average Meat Consumption':reg_mc_mean,\n",
    "                           'Average Life Expectancy':reg_lifex_mean})\n",
    "lifex_mc_summary"
   ]
  },
  {
   "cell_type": "code",
   "execution_count": null,
   "id": "521ca652",
   "metadata": {},
   "outputs": [],
   "source": [
    "pd_plot = reg_mc_mean.plot.bar(figsize=(15,10),color = 'y')\n",
    "plt.title(\"Average Meat Consumption per Region\",fontsize=25)\n",
    "plt.xlabel(\"Region\",fontsize=20)\n",
    "plt.ylabel(\"Average Meat Consumption (Kg per Capita)\",fontsize=20)\n",
    "plt.ylim(5, 130)\n",
    "plt.show()"
   ]
  },
  {
   "cell_type": "code",
   "execution_count": null,
   "id": "fda51119",
   "metadata": {},
   "outputs": [],
   "source": [
    "pd_plot = reg_lifex_mean.plot.bar(figsize=(15,10),color = 'g')\n",
    "plt.title(\"Average Life Expectancy per Region\",fontsize=25)\n",
    "plt.xlabel(\"Region\",fontsize=20)\n",
    "plt.ylabel(\"Average Life Expectancy (years)\",fontsize=20)\n",
    "plt.ylim(40, 100)\n",
    "plt.show()\n"
   ]
  }
 ],
 "metadata": {
  "kernelspec": {
   "display_name": "Python [conda env:PythonData] *",
   "language": "python",
   "name": "conda-env-PythonData-py"
  },
  "language_info": {
   "codemirror_mode": {
    "name": "ipython",
    "version": 3
   },
   "file_extension": ".py",
   "mimetype": "text/x-python",
   "name": "python",
   "nbconvert_exporter": "python",
   "pygments_lexer": "ipython3",
   "version": "3.8.11"
  }
 },
 "nbformat": 4,
 "nbformat_minor": 5
}
