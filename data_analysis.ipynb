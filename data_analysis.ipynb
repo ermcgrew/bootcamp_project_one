{
 "cells": [
  {
   "cell_type": "code",
   "execution_count": 12,
   "id": "cfa0ace9",
   "metadata": {},
   "outputs": [],
   "source": [
    "# Dependencies and Setup\n",
    "import matplotlib.pyplot as plt\n",
    "import pandas as pd\n",
    "import numpy as np\n",
    "from scipy.stats import linregress\n",
    "\n",
    "output_path = \"Output/\""
   ]
  },
  {
   "cell_type": "code",
   "execution_count": 13,
   "id": "86d1ecde",
   "metadata": {},
   "outputs": [],
   "source": [
    "#read in all csv data files\n",
    "fertility_df    = pd.read_csv(\"Resources/Fertility.csv\")\n",
    "gdp_df          = pd.read_csv(\"Resources/GDP per capita.csv\")\n",
    "life_expec_df   = pd.read_csv(\"Resources/Life expectancy.csv\")\n",
    "happiness_df    = pd.read_csv(\"Resources/Happiness.csv\")\n",
    "meat_df         = pd.read_csv(\"Resources/Meat consumption.csv\")\n",
    "median_age_df   = pd.read_csv(\"Resources/Median age.csv\")\n",
    "pop_growth_df   = pd.read_csv(\"Resources/Population growth.csv\")\n",
    "sex_df          = pd.read_csv(\"Resources/Sex-ratio.csv\")\n",
    "suicide_df      = pd.read_csv(\"Resources/Suicide rate.csv\")\n",
    "urban_df        = pd.read_csv(\"Resources/Urbanization rate.csv\")"
   ]
  },
  {
   "cell_type": "code",
   "execution_count": 14,
   "id": "8d7221b2",
   "metadata": {},
   "outputs": [
    {
     "name": "stdout",
     "output_type": "stream",
     "text": [
      "Fertility 201\n",
      "GDP 191\n",
      "LiftExp 185\n",
      "Happiness 153\n",
      "Meat 187\n",
      "Median 223\n",
      "PopGrowth 207\n",
      "Sex 226\n",
      "Suicide 182\n",
      "Urban 218\n"
     ]
    }
   ],
   "source": [
    "print(\"Fertility\", len(fertility_df))\n",
    "print(\"GDP\",       len(gdp_df))  \n",
    "print(\"LiftExp\",   len(life_expec_df))\n",
    "print(\"Happiness\", len(happiness_df))\n",
    "print(\"Meat\",      len(meat_df))     \n",
    "print(\"Median\",    len(median_age_df)) \n",
    "print(\"PopGrowth\", len(pop_growth_df)) \n",
    "print(\"Sex\",       len(sex_df))       \n",
    "print(\"Suicide\",   len(suicide_df))  \n",
    "print(\"Urban\",     len(urban_df)) "
   ]
  },
  {
   "cell_type": "code",
   "execution_count": 15,
   "id": "b761ef13",
   "metadata": {},
   "outputs": [],
   "source": [
    "#Rename cols\n",
    "\n",
    "median_age_df.rename(columns={\"Median age\":\"Median Age\"},               inplace=True)\n",
    "gdp_df.rename(columns={\"GDP per capita\":\"GDP Per Capita\"},              inplace=True)\n",
    "happiness_df.rename(columns={\"Country name\":\"Country\"},                 inplace=True)\n",
    "life_expec_df.rename(columns={\"Life expectancy\":\"Life Expectancy\"},     inplace=True)\n",
    "meat_df.rename(columns={\"Meat consumption\":\"Meat Consumption\"},         inplace=True)\n",
    "median_age_df.rename(columns={\"Median age\":\"Median Age\"},               inplace=True)\n",
    "pop_growth_df.rename(columns={\"Population growth\":\"Population Growth\"}, inplace=True)\n",
    "sex_df.rename(columns={\"Sex-ratio\":\"Sex Ratio\"},                        inplace=True)\n",
    "suicide_df.rename(columns={\"Suicide rate\":\"Suicide Rate\"},              inplace=True)\n",
    "urban_df.rename(columns={\"Urbanization rate\":\"Urbanization Rate\"},      inplace=True)\n"
   ]
  },
  {
   "cell_type": "code",
   "execution_count": 16,
   "id": "decc17a8",
   "metadata": {},
   "outputs": [],
   "source": [
    "#Only keep 1st duplicated record\n",
    "median_age_df.drop_duplicates(subset=[\"Country\",\"ISO-code\"], keep='first',inplace=True)\n",
    "gdp_df.drop_duplicates(subset=[\"Country\",\"ISO-code\"],        keep='first',inplace=True)\n",
    "life_expec_df.drop_duplicates(subset=[\"Country\",\"ISO-code\"], keep='first',inplace=True)\n",
    "meat_df.drop_duplicates(subset=[\"Country\",\"ISO-code\"],       keep='first',inplace=True)\n",
    "median_age_df.drop_duplicates(subset=[\"Country\",\"ISO-code\"], keep='first',inplace=True)\n",
    "pop_growth_df.drop_duplicates(subset=[\"Country\",\"ISO-code\"], keep='first',inplace=True)\n",
    "sex_df.drop_duplicates(subset=[\"Country\",\"ISO-code\"],        keep='first',inplace=True)\n",
    "suicide_df.drop_duplicates(subset=[\"Country\",\"ISO-code\"],    keep='first',inplace=True)\n",
    "urban_df.drop_duplicates(subset=[\"Country\",\"ISO-code\"],      keep='first',inplace=True)\n",
    "fertility_df.drop_duplicates(subset=[\"Country\",\"ISO-code\"],  keep='first',inplace=True)"
   ]
  },
  {
   "cell_type": "code",
   "execution_count": 17,
   "id": "fbd4142d",
   "metadata": {},
   "outputs": [
    {
     "name": "stdout",
     "output_type": "stream",
     "text": [
      "Fertility 199\n",
      "GDP 190\n",
      "LiftExp 184\n",
      "Happiness 153\n",
      "Meat 186\n",
      "Median 222\n",
      "PopGrowth 206\n",
      "Sex 224\n",
      "Suicide 181\n",
      "Urban 217\n"
     ]
    }
   ],
   "source": [
    "print(\"Fertility\", len(fertility_df))\n",
    "print(\"GDP\",       len(gdp_df))  \n",
    "print(\"LiftExp\",   len(life_expec_df))\n",
    "print(\"Happiness\", len(happiness_df))\n",
    "print(\"Meat\",      len(meat_df))     \n",
    "print(\"Median\",    len(median_age_df)) \n",
    "print(\"PopGrowth\", len(pop_growth_df)) \n",
    "print(\"Sex\",       len(sex_df))       \n",
    "print(\"Suicide\",   len(suicide_df))  \n",
    "print(\"Urban\",     len(urban_df)) "
   ]
  },
  {
   "cell_type": "code",
   "execution_count": 18,
   "id": "9c1a5a8c",
   "metadata": {},
   "outputs": [
    {
     "data": {
      "text/plain": [
       "Country                   Sex Ratio  ISO-code\n",
       "Afghanistan               1.03       AFG         1\n",
       "Philippines               1.01       PHL         1\n",
       "North Korea               0.95       PRK         1\n",
       "North Macedonia           0.99       MKD         1\n",
       "Northern Mariana Islands  1.13       MNP         1\n",
       "                                                ..\n",
       "Guernsey                  0.99       GGY         1\n",
       "Guinea                    1.00       GIN         1\n",
       "Guyana                    1.02       GUY         1\n",
       "Haiti                     0.98       HTI         1\n",
       "Zimbabwe                  0.96       ZWE         1\n",
       "Length: 223, dtype: int64"
      ]
     },
     "execution_count": 18,
     "metadata": {},
     "output_type": "execute_result"
    }
   ],
   "source": [
    "sex_df.value_counts()"
   ]
  },
  {
   "cell_type": "code",
   "execution_count": 19,
   "id": "b6019bf3",
   "metadata": {},
   "outputs": [],
   "source": [
    "merged_df = pd.merge(sex_df,fertility_df,  how=\"left\",  on=[\"ISO-code\"])\n",
    "merged_df.drop(columns=\"Country_y\",axis=1,inplace=True)\n",
    "\n",
    "merged_df = pd.merge(merged_df,gdp_df,  how=\"left\", on=[\"ISO-code\"])\n",
    "merged_df.drop(columns=\"Country\",axis=1,inplace=True)\n",
    "\n",
    "merged_df = pd.merge(merged_df,life_expec_df,  how=\"left\", on=[\"ISO-code\"])\n",
    "merged_df.drop(columns=\"Country\",axis=1,inplace=True)\n",
    "\n",
    "merged_df = pd.merge(merged_df,meat_df,  how=\"left\", on=[\"ISO-code\"])\n",
    "merged_df.drop(columns=\"Country\",axis=1,inplace=True)\n",
    "\n",
    "merged_df = pd.merge(merged_df,median_age_df,  how=\"left\", on=[\"ISO-code\"])\n",
    "merged_df.drop(columns=\"Country\",axis=1,inplace=True)\n",
    "\n",
    "merged_df = pd.merge(merged_df,pop_growth_df,  how=\"left\", on=[\"ISO-code\"])\n",
    "merged_df.drop(columns=\"Country\",axis=1,inplace=True)\n",
    "\n",
    "merged_df = pd.merge(merged_df,suicide_df,  how=\"left\", on=[\"ISO-code\"])\n",
    "merged_df.drop(columns=\"Country\",axis=1,inplace=True)\n",
    "\n",
    "merged_df = pd.merge(merged_df,urban_df,  how=\"left\", on=[\"ISO-code\"])\n",
    "merged_df.drop(columns=\"Country\",axis=1,inplace=True)\n",
    "\n",
    "#merge data into one dataframe\n",
    "#fg_df = pd.merge(fertility_df,gdp_df, on='Country', how=\"outer\")\n",
    "#fgl_df= pd.merge(fg_df, life_expec_df, on='Country', how=\"outer\")\n",
    "#fglm_df = pd.merge(fgl_df, meat_df, on='Country', how=\"outer\")\n",
    "#fglmm_df = pd.merge(fglm_df, median_age_df, on='Country', how=\"outer\")\n",
    "#fglmmp_df = pd.merge(fglmm_df,pop_growth_df, on='Country', how=\"outer\")\n",
    "#fglmmps_df = pd.merge(fglmmp_df,sex_df, on='Country', how=\"outer\")\n",
    "#fglmmpss_df = pd.merge(fglmmps_df, suicide_df,on='Country', how=\"outer\")\n",
    "#world_data = pd.merge(fglmmpss_df,urban_df,on='Country', how=\"outer\")"
   ]
  },
  {
   "cell_type": "code",
   "execution_count": 20,
   "id": "94e3a4a5",
   "metadata": {},
   "outputs": [],
   "source": [
    "merged_df.rename(columns={\"Country_x\":\"Country\"}, inplace=True)\n",
    "\n",
    "merged_df = pd.merge(merged_df,happiness_df,  how=\"left\", on=[\"Country\"])\n",
    "#test_df.drop(columns=\"Country\",axis=1,inplace=True)"
   ]
  },
  {
   "cell_type": "code",
   "execution_count": 21,
   "id": "9a9f96cf",
   "metadata": {},
   "outputs": [],
   "source": [
    "path = output_path+\"all_merged_files.csv\"\n",
    "\n",
    "merged_df.to_csv(path,\n",
    "                 header=True,\n",
    "                 mode='w',\n",
    "                 index=True)"
   ]
  },
  {
   "cell_type": "code",
   "execution_count": null,
   "id": "9d3081f0",
   "metadata": {},
   "outputs": [],
   "source": [
    "#delete duplicate columns\n",
    "#del world_data [\"ISO-code_x\"]\n",
    "#del world_data [\"ISO-code_y\"]"
   ]
  },
  {
   "cell_type": "code",
   "execution_count": null,
   "id": "e0474c35",
   "metadata": {
    "scrolled": true
   },
   "outputs": [],
   "source": [
    "world_data.head()"
   ]
  },
  {
   "cell_type": "code",
   "execution_count": null,
   "id": "32ab5862",
   "metadata": {},
   "outputs": [],
   "source": [
    "happiness_df.head()"
   ]
  },
  {
   "cell_type": "code",
   "execution_count": null,
   "id": "78b311de",
   "metadata": {},
   "outputs": [],
   "source": [
    "#Using isnull() to select all rows with NaN under an entire DataFrame:\n",
    "world_data[world_data.isnull().any(axis=1)]"
   ]
  },
  {
   "cell_type": "code",
   "execution_count": null,
   "id": "7ef92c6e",
   "metadata": {},
   "outputs": [],
   "source": [
    "world_data.head(70)"
   ]
  },
  {
   "cell_type": "code",
   "execution_count": null,
   "id": "defb2177",
   "metadata": {},
   "outputs": [],
   "source": [
    "#Just to see the unique record count \n",
    "world_data[\"Country\"].count()"
   ]
  },
  {
   "cell_type": "code",
   "execution_count": null,
   "id": "39666972",
   "metadata": {},
   "outputs": [],
   "source": [
    "#identify columns with missing data\n",
    "print(world_data.isna().sum())"
   ]
  },
  {
   "cell_type": "code",
   "execution_count": null,
   "id": "da090307",
   "metadata": {},
   "outputs": [],
   "source": [
    "world_data.dropna(axis=0, how='any', inplace=True)"
   ]
  },
  {
   "cell_type": "code",
   "execution_count": null,
   "id": "22367cea",
   "metadata": {},
   "outputs": [],
   "source": [
    "print(world_data.isna().sum())"
   ]
  },
  {
   "cell_type": "code",
   "execution_count": null,
   "id": "fb4657df",
   "metadata": {},
   "outputs": [],
   "source": [
    "world_data.dtypes"
   ]
  },
  {
   "cell_type": "code",
   "execution_count": null,
   "id": "bf1de7a5",
   "metadata": {},
   "outputs": [],
   "source": [
    "world_data.describe()"
   ]
  },
  {
   "cell_type": "code",
   "execution_count": null,
   "id": "ff19f280",
   "metadata": {},
   "outputs": [],
   "source": [
    "world_data.corr()"
   ]
  },
  {
   "cell_type": "code",
   "execution_count": null,
   "id": "67b58b85",
   "metadata": {},
   "outputs": [],
   "source": [
    "#1st relationship. Meat consumption vs Life Expectancy\n",
    "#2st relationship. Meat consumption vs Urbanization Rate\n",
    "#3rd relationship. Urbanization vs "
   ]
  }
 ],
 "metadata": {
  "kernelspec": {
   "display_name": "Python [conda env:PythonData] *",
   "language": "python",
   "name": "conda-env-PythonData-py"
  },
  "language_info": {
   "codemirror_mode": {
    "name": "ipython",
    "version": 3
   },
   "file_extension": ".py",
   "mimetype": "text/x-python",
   "name": "python",
   "nbconvert_exporter": "python",
   "pygments_lexer": "ipython3",
   "version": "3.8.11"
  }
 },
 "nbformat": 4,
 "nbformat_minor": 5
}
