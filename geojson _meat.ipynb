{
 "cells": [
  {
   "cell_type": "code",
   "execution_count": 1,
   "id": "0b0e764d",
   "metadata": {
    "scrolled": true
   },
   "outputs": [],
   "source": [
    "#import modules\n",
    "import gmaps\n",
    "import gmaps.geojson_geometries\n",
    "import json\n",
    "import pandas as pd\n",
    "from api_key import g_key"
   ]
  },
  {
   "cell_type": "code",
   "execution_count": 2,
   "id": "d32d0122",
   "metadata": {},
   "outputs": [],
   "source": [
    "#set up gmaps, pull in countries geometry\n",
    "gmaps.configure(api_key=g_key)\n",
    "countries_geojson = gmaps.geojson_geometries.load_geometry('countries')"
   ]
  },
  {
   "cell_type": "code",
   "execution_count": 3,
   "id": "30bd7196",
   "metadata": {},
   "outputs": [
    {
     "data": {
      "text/plain": [
       "{'ISO_A3': 'AFG', 'name': 'Afghanistan'}"
      ]
     },
     "execution_count": 3,
     "metadata": {},
     "output_type": "execute_result"
    }
   ],
   "source": [
    "#check access & dict structure in countries geometry\n",
    "countries_geojson['features'][0]['properties']"
   ]
  },
  {
   "cell_type": "code",
   "execution_count": 4,
   "id": "7fb657c0",
   "metadata": {},
   "outputs": [],
   "source": [
    "#open meat consumption data\n",
    "meat_df=pd.read_csv(\"Resources/Meat consumption.csv\")"
   ]
  },
  {
   "cell_type": "code",
   "execution_count": 6,
   "id": "db729fe5",
   "metadata": {},
   "outputs": [
    {
     "data": {
      "text/plain": [
       "Guinea              2\n",
       "Afghanistan         1\n",
       "Papua New Guinea    1\n",
       "Niger               1\n",
       "Nigeria             1\n",
       "                   ..\n",
       "Grenada             1\n",
       "Guadeloupe          1\n",
       "Guam                1\n",
       "Guatemala           1\n",
       "Zimbabwe            1\n",
       "Name: Country, Length: 186, dtype: int64"
      ]
     },
     "execution_count": 6,
     "metadata": {},
     "output_type": "execute_result"
    }
   ],
   "source": [
    "#check duplicates\n",
    "meat_df[\"Country\"].value_counts()"
   ]
  },
  {
   "cell_type": "code",
   "execution_count": 7,
   "id": "b9d52191",
   "metadata": {},
   "outputs": [],
   "source": [
    "#drop duplicates\n",
    "meat_clean_df = meat_df.drop_duplicates(subset=\"Country\")"
   ]
  },
  {
   "cell_type": "code",
   "execution_count": 8,
   "id": "af8c99b9",
   "metadata": {},
   "outputs": [
    {
     "data": {
      "text/plain": [
       "217"
      ]
     },
     "execution_count": 8,
     "metadata": {},
     "output_type": "execute_result"
    }
   ],
   "source": [
    "#pull list of countries from gmaps_geojson geometry\n",
    "gmaps_countries=[]\n",
    "y=0\n",
    "\n",
    "for x in countries_geojson[\"features\"]:\n",
    "    gmaps_countries.append(countries_geojson['features'][y]['properties']['name'])\n",
    "    y+=1\n",
    "\n",
    "len(gmaps_countries)"
   ]
  },
  {
   "cell_type": "code",
   "execution_count": 9,
   "id": "538185d4",
   "metadata": {},
   "outputs": [],
   "source": [
    "#make both country lists into series\n",
    "meat_countries = meat_clean_df[\"Country\"]   \n",
    "gmaps_country_series = pd.Series(gmaps_countries)"
   ]
  },
  {
   "cell_type": "code",
   "execution_count": 10,
   "id": "24a01d69",
   "metadata": {},
   "outputs": [
    {
     "data": {
      "text/plain": [
       "54             FR Yugoslavia\n",
       "56             French Guiana\n",
       "65                Guadeloupe\n",
       "102                 Maldives\n",
       "105               Martinique\n",
       "123          North Macedonia\n",
       "135    Republic of the Congo\n",
       "146               Seychelles\n",
       "164                 Tanzania\n",
       "167               The Gambia\n",
       "177            United States\n",
       "183           Virgin Islands\n",
       "Name: Country, dtype: object"
      ]
     },
     "execution_count": 10,
     "metadata": {},
     "output_type": "execute_result"
    }
   ],
   "source": [
    "#print out country names from meat_countries that aren't in gmaps_countries\n",
    "meat_tofind=meat_countries.loc[~meat_countries.isin(gmaps_country_series)]\n",
    "\n",
    "meat_tofind"
   ]
  },
  {
   "cell_type": "code",
   "execution_count": 11,
   "id": "1262a81d",
   "metadata": {},
   "outputs": [
    {
     "name": "stdout",
     "output_type": "stream",
     "text": [
      "partial matches for country FR Yugoslavia in meat_tofind:\n",
      "Series([], dtype: object)\n",
      "\n",
      "partial matches for country French Guiana in meat_tofind:\n",
      "Series([], dtype: object)\n",
      "\n",
      "partial matches for country Guadeloupe in meat_tofind:\n",
      "Series([], dtype: object)\n",
      "\n",
      "partial matches for country Maldives in meat_tofind:\n",
      "Series([], dtype: object)\n",
      "\n",
      "partial matches for country Martinique in meat_tofind:\n",
      "Series([], dtype: object)\n",
      "\n",
      "partial matches for country North Macedonia in meat_tofind:\n",
      "Series([], dtype: object)\n",
      "\n",
      "partial matches for country Republic of the Congo in meat_tofind:\n",
      "40    Democratic Republic of the Congo\n",
      "dtype: object\n",
      "\n",
      "partial matches for country Seychelles in meat_tofind:\n",
      "Series([], dtype: object)\n",
      "\n",
      "partial matches for country Tanzania in meat_tofind:\n",
      "201    United Republic of Tanzania\n",
      "dtype: object\n",
      "\n",
      "partial matches for country The Gambia in meat_tofind:\n",
      "Series([], dtype: object)\n",
      "\n",
      "partial matches for country United States in meat_tofind:\n",
      "205        United States of America\n",
      "209    United States Virgin Islands\n",
      "dtype: object\n",
      "\n",
      "partial matches for country Virgin Islands in meat_tofind:\n",
      "209    United States Virgin Islands\n",
      "dtype: object\n",
      "\n"
     ]
    }
   ],
   "source": [
    "#search for possible alternate names for countries not found in gmpas countries\n",
    "for x in meat_tofind:\n",
    "        possible_match = gmaps_country_series[gmaps_country_series.str.contains(x, regex=False)]\n",
    "        print(f\"partial matches for country {x} in meat_tofind:\\n{possible_match}\\n\")"
   ]
  },
  {
   "cell_type": "code",
   "execution_count": 12,
   "id": "f6240669",
   "metadata": {
    "scrolled": true
   },
   "outputs": [
    {
     "data": {
      "text/html": [
       "<div>\n",
       "<style scoped>\n",
       "    .dataframe tbody tr th:only-of-type {\n",
       "        vertical-align: middle;\n",
       "    }\n",
       "\n",
       "    .dataframe tbody tr th {\n",
       "        vertical-align: top;\n",
       "    }\n",
       "\n",
       "    .dataframe thead th {\n",
       "        text-align: right;\n",
       "    }\n",
       "</style>\n",
       "<table border=\"1\" class=\"dataframe\">\n",
       "  <thead>\n",
       "    <tr style=\"text-align: right;\">\n",
       "      <th></th>\n",
       "      <th>Country</th>\n",
       "      <th>Meat consumption</th>\n",
       "      <th>ISO-code</th>\n",
       "    </tr>\n",
       "  </thead>\n",
       "  <tbody>\n",
       "    <tr>\n",
       "      <th>177</th>\n",
       "      <td>United States</td>\n",
       "      <td>124.8</td>\n",
       "      <td>USA</td>\n",
       "    </tr>\n",
       "  </tbody>\n",
       "</table>\n",
       "</div>"
      ],
      "text/plain": [
       "           Country  Meat consumption ISO-code\n",
       "177  United States             124.8      USA"
      ]
     },
     "execution_count": 12,
     "metadata": {},
     "output_type": "execute_result"
    }
   ],
   "source": [
    "#find row index of US in full meat_dataframe\n",
    "meat_clean_df.loc[meat_clean_df[\"Country\"]==\"United States\"]"
   ]
  },
  {
   "cell_type": "code",
   "execution_count": 13,
   "id": "b77318da",
   "metadata": {},
   "outputs": [
    {
     "name": "stderr",
     "output_type": "stream",
     "text": [
      "C:\\Users\\ermcg\\anaconda3\\envs\\PythonData\\lib\\site-packages\\pandas\\core\\indexing.py:1817: SettingWithCopyWarning: \n",
      "A value is trying to be set on a copy of a slice from a DataFrame.\n",
      "Try using .loc[row_indexer,col_indexer] = value instead\n",
      "\n",
      "See the caveats in the documentation: https://pandas.pydata.org/pandas-docs/stable/user_guide/indexing.html#returning-a-view-versus-a-copy\n",
      "  self._setitem_single_column(loc, value, pi)\n"
     ]
    }
   ],
   "source": [
    "#Use US row index to update value to match gmaps country name\n",
    "meat_clean_df.loc[177, \"Country\"] = \"United States of America\""
   ]
  },
  {
   "cell_type": "code",
   "execution_count": 14,
   "id": "366004b3",
   "metadata": {
    "scrolled": true
   },
   "outputs": [
    {
     "data": {
      "text/html": [
       "<div>\n",
       "<style scoped>\n",
       "    .dataframe tbody tr th:only-of-type {\n",
       "        vertical-align: middle;\n",
       "    }\n",
       "\n",
       "    .dataframe tbody tr th {\n",
       "        vertical-align: top;\n",
       "    }\n",
       "\n",
       "    .dataframe thead th {\n",
       "        text-align: right;\n",
       "    }\n",
       "</style>\n",
       "<table border=\"1\" class=\"dataframe\">\n",
       "  <thead>\n",
       "    <tr style=\"text-align: right;\">\n",
       "      <th></th>\n",
       "      <th>Country</th>\n",
       "      <th>Meat consumption</th>\n",
       "      <th>ISO-code</th>\n",
       "    </tr>\n",
       "  </thead>\n",
       "  <tbody>\n",
       "    <tr>\n",
       "      <th>177</th>\n",
       "      <td>United States of America</td>\n",
       "      <td>124.8</td>\n",
       "      <td>USA</td>\n",
       "    </tr>\n",
       "  </tbody>\n",
       "</table>\n",
       "</div>"
      ],
      "text/plain": [
       "                      Country  Meat consumption ISO-code\n",
       "177  United States of America             124.8      USA"
      ]
     },
     "execution_count": 14,
     "metadata": {},
     "output_type": "execute_result"
    }
   ],
   "source": [
    "#check that the change worked\n",
    "meat_clean_df.loc[meat_clean_df[\"Country\"]==\"United States of America\"]"
   ]
  },
  {
   "cell_type": "code",
   "execution_count": 15,
   "id": "2b2e9d84",
   "metadata": {
    "scrolled": true
   },
   "outputs": [],
   "source": [
    "#create dictionary with index: country names and values: meat \n",
    "data_dict = meat_clean_df.set_index(\"Country\").to_dict()[\"Meat consumption\"]"
   ]
  },
  {
   "cell_type": "code",
   "execution_count": 16,
   "id": "f3ba93f5",
   "metadata": {},
   "outputs": [],
   "source": [
    "#The following 3 boxes of code adapted from jupyter-gmaps.readthedocs.io GeoJSON example\n",
    "from matplotlib.cm import viridis\n",
    "from matplotlib.colors import to_hex\n",
    "\n",
    "# We will need to scale the data values to lie between 0 and 1\n",
    "min_meat = min(data_dict.values())\n",
    "max_meat = max(data_dict.values())\n",
    "meat_range = max_meat - min_meat\n",
    "\n",
    "#Convert the meat consumption data to a color\n",
    "def calculate_color(meat):\n",
    "    \n",
    "    # make meat a number between 0 and 1\n",
    "    normalized_meat = (meat - min_meat) / meat_range\n",
    "\n",
    "    # invert meat so that high inequality gives dark color\n",
    "    inverse_meat = 1.0 - normalized_meat\n",
    "\n",
    "    # transform meat to a matplotlib color\n",
    "    mpl_color = viridis(inverse_meat)\n",
    "\n",
    "    # transform from a matplotlib color to a valid CSS color\n",
    "    gmaps_color = to_hex(mpl_color, keep_alpha=False)\n",
    "\n",
    "    return gmaps_color"
   ]
  },
  {
   "cell_type": "code",
   "execution_count": 17,
   "id": "460a7f3d",
   "metadata": {},
   "outputs": [],
   "source": [
    "colors = []\n",
    "\n",
    "#for each country in gmaps, pull the correct meat stat and assign a color using defined function. \n",
    "for feature in countries_geojson['features']:\n",
    "    country_name = feature['properties']['name']\n",
    "    try:\n",
    "        meat = data_dict[country_name]\n",
    "        color = calculate_color(meat)\n",
    "    except KeyError:\n",
    "        # no data for that country: return default color\n",
    "        color = (0, 0, 0, 0.3)\n",
    "    #add color to list for gmaps layer\n",
    "    colors.append(color)"
   ]
  },
  {
   "cell_type": "code",
   "execution_count": 18,
   "id": "78ddd248",
   "metadata": {},
   "outputs": [
    {
     "data": {
      "application/vnd.jupyter.widget-view+json": {
       "model_id": "4cab86391db147b5b6ff34b14edca9fb",
       "version_major": 2,
       "version_minor": 0
      },
      "text/plain": [
       "Figure(layout=FigureLayout(height='420px'))"
      ]
     },
     "metadata": {},
     "output_type": "display_data"
    }
   ],
   "source": [
    "#set up gmaps figure\n",
    "fig = gmaps.figure(center=(30.0, 31.0), zoom_level=1.5)\n",
    "#set up layer with colors for meat consumption data\n",
    "meat_layer = gmaps.geojson_layer(\n",
    "    countries_geojson,\n",
    "    fill_color=colors,\n",
    "    stroke_color=colors,\n",
    "    fill_opacity=0.8)\n",
    "#add layer to base map\n",
    "fig.add_layer(meat_layer)\n",
    "fig"
   ]
  }
 ],
 "metadata": {
  "kernelspec": {
   "display_name": "Python [conda env:PythonData] *",
   "language": "python",
   "name": "conda-env-PythonData-py"
  },
  "language_info": {
   "codemirror_mode": {
    "name": "ipython",
    "version": 3
   },
   "file_extension": ".py",
   "mimetype": "text/x-python",
   "name": "python",
   "nbconvert_exporter": "python",
   "pygments_lexer": "ipython3",
   "version": "3.8.11"
  }
 },
 "nbformat": 4,
 "nbformat_minor": 5
}
